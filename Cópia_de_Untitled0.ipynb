{
  "nbformat": 4,
  "nbformat_minor": 0,
  "metadata": {
    "colab": {
      "name": "Cópia de Untitled0.ipynb",
      "provenance": [],
      "collapsed_sections": [],
      "authorship_tag": "ABX9TyMUgQ+TxhLketNoumcUirdl",
      "include_colab_link": true
    },
    "kernelspec": {
      "display_name": "Python 3",
      "name": "python3"
    },
    "language_info": {
      "name": "python"
    }
  },
  "cells": [
    {
      "cell_type": "markdown",
      "metadata": {
        "id": "view-in-github",
        "colab_type": "text"
      },
      "source": [
        "<a href=\"https://colab.research.google.com/github/goodofd3ath2/AspNetCore.Docs/blob/master/C%C3%B3pia_de_Untitled0.ipynb\" target=\"_parent\"><img src=\"https://colab.research.google.com/assets/colab-badge.svg\" alt=\"Open In Colab\"/></a>"
      ]
    },
    {
      "cell_type": "code",
      "metadata": {
        "id": "ayKC5bXRhScG"
      },
      "source": [
        "import calendar\n",
        "import pandas as pd\n",
        "import plotly.express as px\n",
        "from pathlib import Path\n",
        "from IPython.display import display\n",
        "import plotly.io as pio\n",
        "import numpy as np\n",
        "from collections import Counter\n",
        "\n",
        "pio.templates.default = \"ggplot2\""
      ],
      "execution_count": 2,
      "outputs": []
    },
    {
      "cell_type": "code",
      "metadata": {
        "colab": {
          "background_save": true,
          "base_uri": "https://localhost:8080/"
        },
        "id": "Q5Sk-U86JCl_",
        "outputId": "dfaf073d-e8f2-4c19-9fbb-f0536260c3fa"
      },
      "source": [
        "from google.colab import drive\n",
        "drive.mount('/content/drive')"
      ],
      "execution_count": null,
      "outputs": [
        {
          "output_type": "stream",
          "text": [
            "Mounted at /content/drive\n"
          ],
          "name": "stdout"
        }
      ]
    },
    {
      "cell_type": "code",
      "metadata": {
        "colab": {
          "resources": {
            "http://localhost:8080/nbextensions/google.colab/files.js": {
              "data": "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",
              "ok": true,
              "headers": [
                [
                  "content-type",
                  "application/javascript"
                ]
              ],
              "status": 200,
              "status_text": ""
            }
          },
          "base_uri": "https://localhost:8080/",
          "height": 72
        },
        "id": "9tzDhoZKH8uK",
        "outputId": "a1dc6ca0-3476-48ba-9a7b-9294567dca4a"
      },
      "source": [
        "from google.colab import files \n",
        "uploaded = files.upload() #entro com os dados a serem trabalhados"
      ],
      "execution_count": 3,
      "outputs": [
        {
          "output_type": "display_data",
          "data": {
            "text/html": [
              "\n",
              "     <input type=\"file\" id=\"files-744bd3e3-66a2-4c59-be99-7bc5dceebcaa\" name=\"files[]\" multiple disabled\n",
              "        style=\"border:none\" />\n",
              "     <output id=\"result-744bd3e3-66a2-4c59-be99-7bc5dceebcaa\">\n",
              "      Upload widget is only available when the cell has been executed in the\n",
              "      current browser session. Please rerun this cell to enable.\n",
              "      </output>\n",
              "      <script src=\"/nbextensions/google.colab/files.js\"></script> "
            ],
            "text/plain": [
              "<IPython.core.display.HTML object>"
            ]
          },
          "metadata": {
            "tags": []
          }
        },
        {
          "output_type": "stream",
          "text": [
            "Saving friends_info.csv to friends_info.csv\n"
          ],
          "name": "stdout"
        }
      ]
    },
    {
      "cell_type": "code",
      "metadata": {
        "id": "YI3AEzpik_OL"
      },
      "source": [
        "path = 'friends_info.csv' #crio o caminho"
      ],
      "execution_count": 6,
      "outputs": []
    },
    {
      "cell_type": "code",
      "metadata": {
        "colab": {
          "base_uri": "https://localhost:8080/",
          "height": 563
        },
        "id": "EVE3aGdazfnC",
        "outputId": "bb1e4cef-3161-47c6-cebb-5efe766ecb73"
      },
      "source": [
        "df = pd.read_csv(path) #chamo o caminho \n",
        "print(df.shape) #mostro na tela\n",
        "display(df.sample(10)) #escolho quantas linhas vão ser mostradas na tela"
      ],
      "execution_count": 49,
      "outputs": [
        {
          "output_type": "stream",
          "text": [
            "(229, 10)\n"
          ],
          "name": "stdout"
        },
        {
          "output_type": "display_data",
          "data": {
            "text/html": [
              "<div>\n",
              "<style scoped>\n",
              "    .dataframe tbody tr th:only-of-type {\n",
              "        vertical-align: middle;\n",
              "    }\n",
              "\n",
              "    .dataframe tbody tr th {\n",
              "        vertical-align: top;\n",
              "    }\n",
              "\n",
              "    .dataframe thead th {\n",
              "        text-align: right;\n",
              "    }\n",
              "</style>\n",
              "<table border=\"1\" class=\"dataframe\">\n",
              "  <thead>\n",
              "    <tr style=\"text-align: right;\">\n",
              "      <th></th>\n",
              "      <th>Date</th>\n",
              "      <th>Episode</th>\n",
              "      <th>Title</th>\n",
              "      <th>Directed by</th>\n",
              "      <th>Written by</th>\n",
              "      <th>Duration</th>\n",
              "      <th>Summary</th>\n",
              "      <th>Rating/Share</th>\n",
              "      <th>U.S. viewers</th>\n",
              "      <th>Prod.\\ncode</th>\n",
              "    </tr>\n",
              "  </thead>\n",
              "  <tbody>\n",
              "    <tr>\n",
              "      <th>152</th>\n",
              "      <td>01/11/01</td>\n",
              "      <td>07-12</td>\n",
              "      <td>The One Where They're Up All Night</td>\n",
              "      <td>Kevin S. Bright</td>\n",
              "      <td>Zachary Rosenblatt</td>\n",
              "      <td>22.0</td>\n",
              "      <td>After the gang head up to the roof to see a pa...</td>\n",
              "      <td>14.8/23</td>\n",
              "      <td>22.86 million</td>\n",
              "      <td>226413</td>\n",
              "    </tr>\n",
              "    <tr>\n",
              "      <th>12</th>\n",
              "      <td>01/19/95</td>\n",
              "      <td>01-13</td>\n",
              "      <td>The One with the Boobies</td>\n",
              "      <td>Alan Myerson</td>\n",
              "      <td>Alexa Junge</td>\n",
              "      <td>22.0</td>\n",
              "      <td>Joey finds out his dad has a mistress. Rachel ...</td>\n",
              "      <td>17.3/26</td>\n",
              "      <td>25.8 million</td>\n",
              "      <td>456664</td>\n",
              "    </tr>\n",
              "    <tr>\n",
              "      <th>108</th>\n",
              "      <td>02/11/99</td>\n",
              "      <td>05-14</td>\n",
              "      <td>The One Where Everybody Finds Out</td>\n",
              "      <td>Michael Lembeck</td>\n",
              "      <td>Alexa Junge</td>\n",
              "      <td>22.0</td>\n",
              "      <td>When Phoebe finds out about Monica and Chandle...</td>\n",
              "      <td>17.8/28</td>\n",
              "      <td>27.7 million</td>\n",
              "      <td>467664</td>\n",
              "    </tr>\n",
              "    <tr>\n",
              "      <th>79</th>\n",
              "      <td>11/20/97</td>\n",
              "      <td>04-08</td>\n",
              "      <td>The One with Chandler in a Box</td>\n",
              "      <td>Peter Bonerz</td>\n",
              "      <td>Michael Borkow</td>\n",
              "      <td>22.0</td>\n",
              "      <td>Chandler tries to earn Joey's forgiveness by l...</td>\n",
              "      <td>18.4/29</td>\n",
              "      <td>26.8 million</td>\n",
              "      <td>466608</td>\n",
              "    </tr>\n",
              "    <tr>\n",
              "      <th>160</th>\n",
              "      <td>04/19/01</td>\n",
              "      <td>07-19</td>\n",
              "      <td>The One with Ross and Monica's Cousin</td>\n",
              "      <td>Gary Halvorson</td>\n",
              "      <td>Andrew Reich &amp; Ted Cohen</td>\n",
              "      <td>22.0</td>\n",
              "      <td>Joey auditions for a naked role in a big movie...</td>\n",
              "      <td>11.4/19</td>\n",
              "      <td>16.55 million</td>\n",
              "      <td>226421</td>\n",
              "    </tr>\n",
              "    <tr>\n",
              "      <th>71</th>\n",
              "      <td>05/15/97</td>\n",
              "      <td>03-25</td>\n",
              "      <td>The One at the Beach</td>\n",
              "      <td>Pamela Fryman</td>\n",
              "      <td>Story by : Pang-Ni Landrum &amp; Mark Kunerth\\nTel...</td>\n",
              "      <td>22.0</td>\n",
              "      <td>While at the beach, Phoebe meets a family frie...</td>\n",
              "      <td>16.5/29</td>\n",
              "      <td>28.8 million</td>\n",
              "      <td>465275</td>\n",
              "    </tr>\n",
              "    <tr>\n",
              "      <th>154</th>\n",
              "      <td>02/08/01</td>\n",
              "      <td>07-14</td>\n",
              "      <td>The One Where They All Turn Thirty</td>\n",
              "      <td>Ben Weiss</td>\n",
              "      <td>Story by : Vanessa McCarthy\\nTeleplay by : Ell...</td>\n",
              "      <td>22.0</td>\n",
              "      <td>Rachel's 30th birthday prompts the rest of the...</td>\n",
              "      <td>13.9/21</td>\n",
              "      <td>22.40 million</td>\n",
              "      <td>226411</td>\n",
              "    </tr>\n",
              "    <tr>\n",
              "      <th>169</th>\n",
              "      <td>10/25/01</td>\n",
              "      <td>08-05</td>\n",
              "      <td>The One with Rachel's Date</td>\n",
              "      <td>Gary Halvorson</td>\n",
              "      <td>Brian Buckner &amp; Sebastian Jones</td>\n",
              "      <td>22.0</td>\n",
              "      <td>Phoebe dates Monica's sous-chef Tim and Monica...</td>\n",
              "      <td>16.1/25</td>\n",
              "      <td>25.64 million</td>\n",
              "      <td>227404</td>\n",
              "    </tr>\n",
              "    <tr>\n",
              "      <th>149</th>\n",
              "      <td>12/07/00</td>\n",
              "      <td>07-09</td>\n",
              "      <td>The One with All the Candy</td>\n",
              "      <td>David Schwimmer</td>\n",
              "      <td>Wil Calhoun</td>\n",
              "      <td>22.0</td>\n",
              "      <td>Monica makes candy to get to know her neighbou...</td>\n",
              "      <td>13.6/22</td>\n",
              "      <td>21.08 million</td>\n",
              "      <td>226408</td>\n",
              "    </tr>\n",
              "    <tr>\n",
              "      <th>217</th>\n",
              "      <td>11/13/03</td>\n",
              "      <td>10-07</td>\n",
              "      <td>The One with the Home Study</td>\n",
              "      <td>Kevin S. Bright</td>\n",
              "      <td>Mark Kunerth</td>\n",
              "      <td>22.0</td>\n",
              "      <td>Monica and Chandler nervously prepare for a vi...</td>\n",
              "      <td>13.2/21</td>\n",
              "      <td>20.21 million</td>\n",
              "      <td>176257</td>\n",
              "    </tr>\n",
              "  </tbody>\n",
              "</table>\n",
              "</div>"
            ],
            "text/plain": [
              "         Date Episode  ...   U.S. viewers Prod.\\ncode\n",
              "152  01/11/01   07-12  ...  22.86 million      226413\n",
              "12   01/19/95   01-13  ...   25.8 million      456664\n",
              "108  02/11/99   05-14  ...   27.7 million      467664\n",
              "79   11/20/97   04-08  ...   26.8 million      466608\n",
              "160  04/19/01   07-19  ...  16.55 million      226421\n",
              "71   05/15/97   03-25  ...   28.8 million      465275\n",
              "154  02/08/01   07-14  ...  22.40 million      226411\n",
              "169  10/25/01   08-05  ...  25.64 million      227404\n",
              "149  12/07/00   07-09  ...  21.08 million      226408\n",
              "217  11/13/03   10-07  ...  20.21 million      176257\n",
              "\n",
              "[10 rows x 10 columns]"
            ]
          },
          "metadata": {
            "tags": []
          }
        }
      ]
    },
    {
      "cell_type": "code",
      "metadata": {
        "id": "hJoO_rcxBH-m"
      },
      "source": [
        "# Clean Episodes column\n",
        "df['Season-Episode'] = df['Episode']\n",
        "cleaned_column = []\n",
        "for i, val in enumerate(df.Episode):\n",
        "    if '\\n' in val:\n",
        "        val1, val2 = val.split('\\n')\n",
        "        val = f\"{val1}{val2.split('-')[1]}\"\n",
        "    cleaned_column.append(val)\n",
        "df.Episode = cleaned_column\n",
        "\n",
        "# Separate Month, Day, and Year from Date column\n",
        "timedf = pd.DataFrame(\n",
        "    data=list(map(lambda x: list(map(int, x.split(\"/\"))), df.Date)), \n",
        "    columns=[\"Month\", \"Day\", \"Year\"]\n",
        ")\n",
        "# df.Date = pd.to_datetime(popdf.Date) # convert string to date format\n",
        "\n",
        "# Make new columns with season number and episode number\n",
        "df.Episode = df.Episode.replace({\"Special\": \"10-100\"}) # Some cleaning\n",
        "sedf = pd.DataFrame(list(map(lambda x: x.split(\"-\"), df.Episode)), columns=[\"Season\", \"Episode\"])\n",
        "df = df.drop('Episode', axis=1)\n",
        "df = pd.concat((timedf, df, sedf), axis=1)\n",
        "\n",
        "# Remove million from the count\n",
        "df[\"U.S. viewers\"] = df[\"U.S. viewers\"].apply(lambda x: float(x.replace(' million', '')))\n",
        "df = df.rename(columns={\"U.S. viewers\": \"U.S. viewers (in million)\"})"
      ],
      "execution_count": 57,
      "outputs": []
    },
    {
      "cell_type": "code",
      "metadata": {
        "colab": {
          "base_uri": "https://localhost:8080/",
          "height": 576
        },
        "id": "cBroJFvCdLTO",
        "outputId": "73610fbf-433c-4a11-bd46-d841074ba2b0"
      },
      "source": [
        "df[df['U.S. viewers (in million)'] == df['U.S. viewers (in million)'].max()].T"
      ],
      "execution_count": 59,
      "outputs": [
        {
          "output_type": "execute_result",
          "data": {
            "text/html": [
              "<div>\n",
              "<style scoped>\n",
              "    .dataframe tbody tr th:only-of-type {\n",
              "        vertical-align: middle;\n",
              "    }\n",
              "\n",
              "    .dataframe tbody tr th {\n",
              "        vertical-align: top;\n",
              "    }\n",
              "\n",
              "    .dataframe thead th {\n",
              "        text-align: right;\n",
              "    }\n",
              "</style>\n",
              "<table border=\"1\" class=\"dataframe\">\n",
              "  <thead>\n",
              "    <tr style=\"text-align: right;\">\n",
              "      <th></th>\n",
              "      <th>35</th>\n",
              "    </tr>\n",
              "  </thead>\n",
              "  <tbody>\n",
              "    <tr>\n",
              "      <th>Month</th>\n",
              "      <td>1</td>\n",
              "    </tr>\n",
              "    <tr>\n",
              "      <th>Day</th>\n",
              "      <td>28</td>\n",
              "    </tr>\n",
              "    <tr>\n",
              "      <th>Year</th>\n",
              "      <td>96</td>\n",
              "    </tr>\n",
              "    <tr>\n",
              "      <th>Date</th>\n",
              "      <td>01/28/96</td>\n",
              "    </tr>\n",
              "    <tr>\n",
              "      <th>Title</th>\n",
              "      <td>The One After the Super Bowl</td>\n",
              "    </tr>\n",
              "    <tr>\n",
              "      <th>Directed by</th>\n",
              "      <td>Michael Lembeck</td>\n",
              "    </tr>\n",
              "    <tr>\n",
              "      <th>Written by</th>\n",
              "      <td>Jeffrey Astrof &amp; Mike SikowitzMichael Borkow</td>\n",
              "    </tr>\n",
              "    <tr>\n",
              "      <th>Duration</th>\n",
              "      <td>44</td>\n",
              "    </tr>\n",
              "    <tr>\n",
              "      <th>Summary</th>\n",
              "      <td>Ross goes to visit Marcel whilst on a trip to ...</td>\n",
              "    </tr>\n",
              "    <tr>\n",
              "      <th>Rating/Share</th>\n",
              "      <td>29.6/46</td>\n",
              "    </tr>\n",
              "    <tr>\n",
              "      <th>U.S. viewers (in million)</th>\n",
              "      <td>52.9</td>\n",
              "    </tr>\n",
              "    <tr>\n",
              "      <th>Prod.\\ncode</th>\n",
              "      <td>457313457314</td>\n",
              "    </tr>\n",
              "    <tr>\n",
              "      <th>Season-Episode</th>\n",
              "      <td>02-1213</td>\n",
              "    </tr>\n",
              "    <tr>\n",
              "      <th>Season</th>\n",
              "      <td>[02, 1213]</td>\n",
              "    </tr>\n",
              "    <tr>\n",
              "      <th>Share</th>\n",
              "      <td>46</td>\n",
              "    </tr>\n",
              "    <tr>\n",
              "      <th>Season</th>\n",
              "      <td>02</td>\n",
              "    </tr>\n",
              "    <tr>\n",
              "      <th>Episode</th>\n",
              "      <td>1213</td>\n",
              "    </tr>\n",
              "  </tbody>\n",
              "</table>\n",
              "</div>"
            ],
            "text/plain": [
              "                                                                          35\n",
              "Month                                                                      1\n",
              "Day                                                                       28\n",
              "Year                                                                      96\n",
              "Date                                                                01/28/96\n",
              "Title                                           The One After the Super Bowl\n",
              "Directed by                                                  Michael Lembeck\n",
              "Written by                      Jeffrey Astrof & Mike SikowitzMichael Borkow\n",
              "Duration                                                                  44\n",
              "Summary                    Ross goes to visit Marcel whilst on a trip to ...\n",
              "Rating/Share                                                         29.6/46\n",
              "U.S. viewers (in million)                                               52.9\n",
              "Prod.\\ncode                                                     457313457314\n",
              "Season-Episode                                                       02-1213\n",
              "Season                                                            [02, 1213]\n",
              "Share                                                                     46\n",
              "Season                                                                    02\n",
              "Episode                                                                 1213"
            ]
          },
          "metadata": {
            "tags": []
          },
          "execution_count": 59
        }
      ]
    },
    {
      "cell_type": "code",
      "metadata": {
        "colab": {
          "base_uri": "https://localhost:8080/"
        },
        "id": "b6371l_r29Ki",
        "outputId": "3d625012-e2b3-4d18-cd0d-a705ff3d9b69"
      },
      "source": [
        "len(df.index) #mostra quantas linhas tem"
      ],
      "execution_count": 21,
      "outputs": [
        {
          "output_type": "execute_result",
          "data": {
            "text/plain": [
              "229"
            ]
          },
          "metadata": {
            "tags": []
          },
          "execution_count": 21
        }
      ]
    },
    {
      "cell_type": "code",
      "metadata": {
        "colab": {
          "base_uri": "https://localhost:8080/",
          "height": 542
        },
        "id": "Jy2jEQVJd_aX",
        "outputId": "286541f2-4bfa-4148-f4a6-536745760b9d"
      },
      "source": [
        "px.line(df, x='Date', y='U.S. viewers (in million)', title='U.S. Viewers trend over years',\n",
        "        hover_data=['Title', 'Season-Episode'])"
      ],
      "execution_count": 62,
      "outputs": [
        {
          "output_type": "display_data",
          "data": {
            "text/html": [
              "<html>\n",
              "<head><meta charset=\"utf-8\" /></head>\n",
              "<body>\n",
              "    <div>\n",
              "            <script src=\"https://cdnjs.cloudflare.com/ajax/libs/mathjax/2.7.5/MathJax.js?config=TeX-AMS-MML_SVG\"></script><script type=\"text/javascript\">if (window.MathJax) {MathJax.Hub.Config({SVG: {font: \"STIX-Web\"}});}</script>\n",
              "                <script type=\"text/javascript\">window.PlotlyConfig = {MathJaxConfig: 'local'};</script>\n",
              "        <script src=\"https://cdn.plot.ly/plotly-latest.min.js\"></script>    \n",
              "            <div id=\"9cad119a-f011-48f8-9dc4-aaaedfcb3481\" class=\"plotly-graph-div\" style=\"height:525px; width:100%;\"></div>\n",
              "            <script type=\"text/javascript\">\n",
              "                \n",
              "                    window.PLOTLYENV=window.PLOTLYENV || {};\n",
              "                    \n",
              "                if (document.getElementById(\"9cad119a-f011-48f8-9dc4-aaaedfcb3481\")) {\n",
              "                    Plotly.newPlot(\n",
              "                        '9cad119a-f011-48f8-9dc4-aaaedfcb3481',\n",
              "                        [{\"customdata\": [[\"The Pilot\", \"01-01\"], [\"The One with the Sonogram at the End\", \"01-02\"], [\"The One with the Thumb\", \"01-03\"], [\"The One with George Stephanopoulos\", \"01-04\"], [\"The One with the East German Laundry Detergent\", \"01-05\"], [\"The One with the Butt\", \"01-06\"], [\"The One with the Blackout\", \"01-07\"], [\"The One Where Nana Dies Twice\", \"01-08\"], [\"The One Where Underdog Gets Away\", \"01-09\"], [\"The One with the Monkey\", \"01-10\"], [\"The One with Mrs. Bing\", \"01-11\"], [\"The One with the Dozen Lasagnas\", \"01-12\"], [\"The One with the Boobies\", \"01-13\"], [\"The One with the Candy Hearts\", \"01-14\"], [\"The One with the Stoned Guy\", \"01-15\"], [\"The One with Two Parts, Part I\", \"01-16\"], [\"The One with Two Parts, Part II\", \"01-17\"], [\"The One with All the Poker\", \"01-18\"], [\"The One Where the Monkey Gets Away\", \"01-19\"], [\"The One with the Evil Orthodontist\", \"01-20\"], [\"The One with Fake Monica\", \"01-21\"], [\"The One with the Ick Factor\", \"01-22\"], [\"The One with the Birth\", \"01-23\"], [\"The One Where Rachel Finds Out\", \"01-24\"], [\"The One with Ross's New Girlfriend\", \"02-01\"], [\"The One with the Breast Milk\", \"02-02\"], [\"The One Where Heckles Dies\", \"02-03\"], [\"The One with Phoebe's Husband\", \"02-04\"], [\"The One with Five Steaks and an Eggplant\", \"02-05\"], [\"The One with the Baby on the Bus\", \"02-06\"], [\"The One Where Ross Finds Out\", \"02-07\"], [\"The One with the List\", \"02-08\"], [\"The One with Phoebe's Dad\", \"02-09\"], [\"The One with Russ\", \"02-10\"], [\"The One with the Lesbian Wedding\", \"02-11\"], [\"The One After the Super Bowl\", \"02-1213\"], [\"The One with the Prom Video\", \"02-14\"], [\"The One Where Ross and Rachel... You Know\", \"02-15\"], [\"The One Where Joey Moves Out\", \"02-16\"], [\"The One Where Eddie Moves In\", \"02-17\"], [\"The One Where Dr. Ramoray Dies\", \"02-18\"], [\"The One Where Eddie Won't Go\", \"02-19\"], [\"The One Where Old Yeller Dies\", \"02-20\"], [\"The One with the Bullies\", \"02-21\"], [\"The One with Two Parties\", \"02-22\"], [\"The One with the Chicken Pox\", \"02-23\"], [\"The One with Barry and Mindy's Wedding\", \"02-24\"], [\"The One with the Princess Leia Fantasy\", \"03-01\"], [\"The One Where No One's Ready\", \"03-02\"], [\"The One with the Jam\", \"03-03\"], [\"The One with the Metaphorical Tunnel\", \"03-04\"], [\"The One with Frank Jr.\", \"03-05\"], [\"The One with the Flashback\", \"03-06\"], [\"The One with the Racecar Bed\", \"03-07\"], [\"The One with the Giant Poking Device\", \"03-08\"], [\"The One with the Football\", \"03-09\"], [\"The One Where Rachel Quits\", \"03-10\"], [\"The One Where Chandler Can't Remember Which Sister\", \"03-11\"], [\"The One with All the Jealousy\", \"03-12\"], [\"The One Where Monica and Richard Are Just Friends\", \"03-13\"], [\"The One with Phoebe's Ex-Partner\", \"03-14\"], [\"The One Where Ross and Rachel Take a Break\", \"03-15\"], [\"The One the Morning After\", \"03-16\"], [\"The One Without the Ski Trip\", \"03-17\"], [\"The One with the Hypnosis Tape\", \"03-18\"], [\"The One with the Tiny T-Shirt\", \"03-19\"], [\"The One with the Dollhouse\", \"03-20\"], [\"The One with a Chick and a Duck\", \"03-21\"], [\"The One with the Screamer\", \"03-22\"], [\"The One with Ross's Thing\", \"03-23\"], [\"The One with the Ultimate Fighting Champion\", \"03-24\"], [\"The One at the Beach\", \"03-25\"], [\"The One with the Jellyfish\", \"04-01\"], [\"The One with the Cat\", \"04-02\"], [\"The One with the Cuffs\", \"04-03\"], [\"The One with the Ballroom Dancing\", \"04-04\"], [\"The One with Joey's New Girlfriend\", \"04-05\"], [\"The One with the Dirty Girl\", \"04-06\"], [\"The One Where Chandler Crosses the Line\", \"04-07\"], [\"The One with Chandler in a Box\", \"04-08\"], [\"The One Where They're Going to Party!\", \"04-09\"], [\"The One with the Girl from Poughkeepsie\", \"04-10\"], [\"The One with Phoebe's Uterus\", \"04-11\"], [\"The One with the Embryos\", \"04-12\"], [\"The One with Rachel's Crush\", \"04-13\"], [\"The One with Joey's Dirty Day\", \"04-14\"], [\"The One with All the Rugby\", \"04-15\"], [\"The One with the Fake Party\", \"04-16\"], [\"The One with the Free Porn\", \"04-17\"], [\"The One with Rachel's New Dress\", \"04-18\"], [\"The One with All the Haste\", \"04-19\"], [\"The One with All the Wedding Dresses\", \"04-20\"], [\"The One with the Invitation\", \"04-21\"], [\"The One with the Worst Best Man Ever\", \"04-22\"], [\"The One with Ross's Wedding\", \"04-2324\"], [\"The One After Ross Says Rachel\", \"05-01\"], [\"The One with All the Kissing\", \"05-02\"], [\"The One Hundredth\", \"05-03\"], [\"The One Where Phoebe Hates PBS\", \"05-04\"], [\"The One with the Kips\", \"05-05\"], [\"The One with the Yeti\", \"05-06\"], [\"The One Where Ross Moves In\", \"05-07\"], [\"The One with All the Thanksgivings\", \"05-08\"], [\"The One with Ross's Sandwich\", \"05-09\"], [\"The One with the Inappropriate Sister\", \"05-10\"], [\"The One with All the Resolutions\", \"05-11\"], [\"The One with Chandler's Work Laugh\", \"05-12\"], [\"The One with Joey's Bag\", \"05-13\"], [\"The One Where Everybody Finds Out\", \"05-14\"], [\"The One with the Girl Who Hits Joey\", \"05-15\"], [\"The One with the Cop\", \"05-16\"], [\"The One with Rachel's Inadvertent Kiss\", \"05-17\"], [\"The One Where Rachel Smokes\", \"05-18\"], [\"The One Where Ross Can't Flirt\", \"05-19\"], [\"The One with the Ride Along\", \"05-20\"], [\"The One with the Ball\", \"05-21\"], [\"The One with Joey's Big Break\", \"05-22\"], [\"The One in Vegas\", \"05-2324\"], [\"The One After Vegas\", \"06-01\"], [\"The One Where Ross Hugs Rachel\", \"06-02\"], [\"The One with Ross's Denial\", \"06-03\"], [\"The One Where Joey Loses His Insurance\", \"06-04\"], [\"The One with Joey's Porsche\", \"06-05\"], [\"The One on the Last Night\", \"06-06\"], [\"The One Where Phoebe Runs\", \"06-07\"], [\"The One with Ross's Teeth\", \"06-08\"], [\"The One Where Ross Got High\", \"06-09\"], [\"The One with the Routine\", \"06-10\"], [\"The One with the Apothecary Table\", \"06-11\"], [\"The One with the Joke\", \"06-12\"], [\"The One with Rachel's Sister\", \"06-13\"], [\"The One Where Chandler Can't Cry\", \"06-14\"], [\"The One That Could Have Been\", \"06-1516\"], [\"The One with Unagi\", \"06-17\"], [\"The One Where Ross Dates a Student\", \"06-18\"], [\"The One with Joey's Fridge\", \"06-19\"], [\"The One with Mac and C.H.E.E.S.E.\", \"06-20\"], [\"The One Where Ross Meets Elizabeth's Dad\", \"06-21\"], [\"The One Where Paul's the Man\", \"06-22\"], [\"The One with the Ring\", \"06-23\"], [\"The One with the Proposal\", \"06-2425\"], [\"The One with Monica's Thunder\", \"07-01\"], [\"The One with Rachel's Book\", \"07-02\"], [\"The One with Phoebe's Cookies\", \"07-03\"], [\"The One with Rachel's Assistant\", \"07-04\"], [\"The One with the Engagement Picture\", \"07-05\"], [\"The One with the Nap Partners\", \"07-06\"], [\"The One with Ross's Library Book\", \"07-07\"], [\"The One Where Chandler Doesn't Like Dogs\", \"07-08\"], [\"The One with All the Candy\", \"07-09\"], [\"The One with the Holiday Armadillo\", \"07-10\"], [\"The One with All the Cheesecakes\", \"07-11\"], [\"The One Where They're Up All Night\", \"07-12\"], [\"The One Where Rosita Dies\", \"07-13\"], [\"The One Where They All Turn Thirty\", \"07-14\"], [\"The One with Joey's New Brain\", \"07-15\"], [\"Friends: The Stuff You've Never Seen\", \"10-100\"], [\"The One with the Truth About London\", \"07-16\"], [\"The One with the Cheap Wedding Dress\", \"07-17\"], [\"The One with Joey's Award\", \"07-18\"], [\"The One with Ross and Monica's Cousin\", \"07-19\"], [\"The One with Rachel's Big Kiss\", \"07-20\"], [\"The One with the Vows\", \"07-21\"], [\"The One with Chandler's Dad\", \"07-22\"], [\"The One with Monica and Chandler's Wedding\", \"07-2324\"], [\"The One After \\\"I Do\\\"\", \"08-01\"], [\"The One with the Red Sweater\", \"08-02\"], [\"The One Where Rachel Tells...\", \"08-03\"], [\"The One with the Videotape\", \"08-04\"], [\"The One with Rachel's Date\", \"08-05\"], [\"The One with the Halloween Party\", \"08-06\"], [\"The One with the Stain\", \"08-07\"], [\"The One with the Stripper\", \"08-08\"], [\"The One with the Rumor\", \"08-09\"], [\"The One with Monica's Boots\", \"08-10\"], [\"The One with Ross's Step Forward\", \"08-11\"], [\"The One Where Joey Dates Rachel\", \"08-12\"], [\"The One Where Chandler Takes a Bath\", \"08-13\"], [\"The One with the Secret Closet\", \"08-14\"], [\"The One with the Birthing Video\", \"08-15\"], [\"The One Where Joey Tells Rachel\", \"08-16\"], [\"The One with the Tea Leaves\", \"08-17\"], [\"The One in Massapequa\", \"08-18\"], [\"The One with Joey's Interview\", \"08-19\"], [\"The One with the Baby Shower\", \"08-20\"], [\"The One with the Cooking Class\", \"08-21\"], [\"The One Where Rachel Is Late\", \"08-22\"], [\"The One Where Rachel Has a Baby\", \"08-2324\"], [\"The One Where No One Proposes\", \"09-01\"], [\"The One Where Emma Cries\", \"09-02\"], [\"The One with the Pediatrician\", \"09-03\"], [\"The One with the Sharks\", \"09-04\"], [\"The One with Phoebe's Birthday Dinner\", \"09-05\"], [\"The One with the Male Nanny\", \"09-06\"], [\"The One with Ross's Inappropriate Song\", \"09-07\"], [\"The One with Rachel's Other Sister\", \"09-08\"], [\"The One with Rachel's Phone Number\", \"09-09\"], [\"The One with Christmas in Tulsa\", \"09-10\"], [\"The One Where Rachel Goes Back to Work\", \"09-11\"], [\"The One with Phoebe's Rats\", \"09-12\"], [\"The One Where Monica Sings\", \"09-13\"], [\"The One with the Blind Date\", \"09-14\"], [\"The One with the Mugging\", \"09-15\"], [\"The One with the Boob Job\", \"09-16\"], [\"The One with the Memorial Service\", \"09-17\"], [\"The One with the Lottery\", \"09-18\"], [\"The One with Rachel's Dream\", \"09-19\"], [\"The One with the Soap Opera Party\", \"09-20\"], [\"The One with the Fertility Test\", \"09-21\"], [\"The One with the Donor\", \"09-22\"], [\"The One in Barbados\", \"09-2324\"], [\"The One After Joey & Rachel Kiss\", \"10-01\"], [\"The One Where Ross Is Fine\", \"10-02\"], [\"The One with Ross's Tan\", \"10-03\"], [\"The One with the Cake\", \"10-04\"], [\"The One Where Rachel's Sister Baby-Sits\", \"10-05\"], [\"The One with Ross's Grant\", \"10-06\"], [\"The One with the Home Study\", \"10-07\"], [\"The One with the Late Thanksgiving\", \"10-08\"], [\"The One with the Birth Mother\", \"10-09\"], [\"The One Where Chandler Gets Caught\", \"10-10\"], [\"The One Where the Stripper Cries\", \"10-11\"], [\"The One with Phoebe's Wedding\", \"10-12\"], [\"The One Where Joey Speaks French\", \"10-13\"], [\"The One with Princess Consuela\", \"10-14\"], [\"The One Where Estelle Dies\", \"10-15\"], [\"The One with Rachel's Going Away Party\", \"10-16\"], [\"The One Before the Last One:\\nTen Years of Friends\", \"10-100\"], [\"The Last One\", \"10-1718\"]], \"hoverlabel\": {\"namelength\": 0}, \"hovertemplate\": \"Date=%{x}<br>U.S. viewers (in million)=%{y}<br>Title=%{customdata[0]}<br>Season-Episode=%{customdata[1]}\", \"legendgroup\": \"\", \"line\": {\"color\": \"#F8766D\", \"dash\": \"solid\"}, \"mode\": \"lines\", \"name\": \"\", \"showlegend\": false, \"type\": \"scatter\", \"x\": [\"09/22/94\", \"09/29/94\", \"10/06/94\", \"10/13/94\", \"10/20/94\", \"10/27/94\", \"11/03/94\", \"11/10/94\", \"11/17/94\", \"12/15/94\", \"01/05/95\", \"01/12/95\", \"01/19/95\", \"02/09/95\", \"02/16/95\", \"02/23/95\", \"02/23/95\", \"03/02/95\", \"03/09/95\", \"04/06/95\", \"04/27/95\", \"05/04/95\", \"05/11/95\", \"05/18/95\", \"09/21/95\", \"09/28/95\", \"10/05/95\", \"10/12/95\", \"10/19/95\", \"11/02/95\", \"11/09/95\", \"11/16/95\", \"12/14/95\", \"01/04/96\", \"01/18/96\", \"01/28/96\", \"02/01/96\", \"02/08/96\", \"02/15/96\", \"02/22/96\", \"03/21/96\", \"03/28/96\", \"04/04/96\", \"04/25/96\", \"05/02/96\", \"05/09/96\", \"05/16/96\", \"09/19/96\", \"09/26/96\", \"10/03/96\", \"10/10/96\", \"10/17/96\", \"10/31/96\", \"11/07/96\", \"11/14/96\", \"11/21/96\", \"12/12/96\", \"01/09/97\", \"01/16/97\", \"01/30/97\", \"02/06/97\", \"02/13/97\", \"02/20/97\", \"03/06/97\", \"03/13/97\", \"03/27/97\", \"04/10/97\", \"04/17/97\", \"04/24/97\", \"05/01/97\", \"05/08/97\", \"05/15/97\", \"09/25/97\", \"10/02/97\", \"10/09/97\", \"10/16/97\", \"10/30/97\", \"11/06/97\", \"11/13/97\", \"11/20/97\", \"12/11/97\", \"12/18/97\", \"01/08/98\", \"01/15/98\", \"01/29/98\", \"02/05/98\", \"02/26/98\", \"03/19/98\", \"03/26/98\", \"04/02/98\", \"04/09/98\", \"04/16/98\", \"04/23/98\", \"04/30/98\", \"05/07/98\", \"09/24/98\", \"10/01/98\", \"10/08/98\", \"10/15/98\", \"10/29/98\", \"11/05/98\", \"11/12/98\", \"11/19/98\", \"12/10/98\", \"12/17/98\", \"01/07/99\", \"01/21/99\", \"02/04/99\", \"02/11/99\", \"02/18/99\", \"02/25/99\", \"03/18/99\", \"04/08/99\", \"04/22/99\", \"04/29/99\", \"05/06/99\", \"05/13/99\", \"05/20/99\", \"09/23/99\", \"09/30/99\", \"10/07/99\", \"10/14/99\", \"10/21/99\", \"11/04/99\", \"11/11/99\", \"11/18/99\", \"11/25/99\", \"12/16/99\", \"01/06/00\", \"01/13/00\", \"02/03/00\", \"02/10/00\", \"02/17/00\", \"02/24/00\", \"03/09/00\", \"03/23/00\", \"04/13/00\", \"04/27/00\", \"05/04/00\", \"05/11/00\", \"05/18/00\", \"10/12/00\", \"10/12/00\", \"10/19/00\", \"10/26/00\", \"11/02/00\", \"11/09/00\", \"11/16/00\", \"11/23/00\", \"12/07/00\", \"12/14/00\", \"01/04/01\", \"01/11/01\", \"02/01/01\", \"02/08/01\", \"02/15/01\", \"02/15/01\", \"02/22/01\", \"03/15/01\", \"03/29/01\", \"04/19/01\", \"04/26/01\", \"05/03/01\", \"05/10/01\", \"05/17/01\", \"09/27/01\", \"10/04/01\", \"10/11/01\", \"10/18/01\", \"10/25/01\", \"11/01/01\", \"11/08/01\", \"11/15/01\", \"11/22/01\", \"12/06/01\", \"12/13/01\", \"01/10/02\", \"01/17/02\", \"01/31/02\", \"02/07/02\", \"02/28/02\", \"03/07/02\", \"03/28/02\", \"04/04/02\", \"04/25/02\", \"05/02/02\", \"05/09/02\", \"05/16/02\", \"09/26/02\", \"10/03/02\", \"10/10/02\", \"10/17/02\", \"10/31/02\", \"11/07/02\", \"11/14/02\", \"11/21/02\", \"12/05/02\", \"12/12/02\", \"01/09/03\", \"01/16/03\", \"01/30/03\", \"02/06/03\", \"02/13/03\", \"02/20/03\", \"03/13/03\", \"04/03/03\", \"04/17/03\", \"04/24/03\", \"05/01/03\", \"05/08/03\", \"05/15/03\", \"09/25/03\", \"10/02/03\", \"10/09/03\", \"10/23/03\", \"10/30/03\", \"11/06/03\", \"11/13/03\", \"11/20/03\", \"01/08/04\", \"01/15/04\", \"02/05/04\", \"02/12/04\", \"02/19/04\", \"02/26/04\", \"04/22/04\", \"04/29/04\", \"05/06/04\", \"05/06/04\"], \"xaxis\": \"x\", \"y\": [21.5, 20.2, 19.5, 19.7, 18.6, 18.2, 23.5, 21.1, 23.1, 19.9, 26.6, 24.0, 25.8, 23.8, 24.8, 26.1, 30.5, 30.4, 29.4, 30.0, 28.4, 29.9, 28.7, 31.3, 32.1, 29.8, 30.2, 28.1, 28.3, 30.2, 30.5, 32.9, 27.8, 32.2, 31.6, 52.9, 33.6, 32.9, 31.1, 30.2, 30.1, 31.2, 27.4, 24.7, 25.5, 26.1, 29.0, 26.8, 26.7, 25.2, 26.1, 23.3, 23.3, 27.4, 28.7, 29.3, 25.1, 29.8, 29.6, 28.0, 28.9, 27.3, 28.3, 25.8, 28.1, 23.7, 24.4, 23.2, 22.6, 24.2, 23.1, 28.8, 29.4, 25.5, 24.0, 24.3, 24.4, 25.7, 26.4, 26.8, 23.9, 23.2, 23.7, 27.1, 25.3, 25.1, 24.4, 23.1, 23.2, 21.7, 21.8, 21.9, 21.5, 23.2, 31.6, 31.1, 25.4, 26.8, 24.1, 25.9, 25.0, 24.4, 23.9, 23.0, 23.7, 27.0, 24.8, 24.9, 27.7, 29.3, 26.0, 24.5, 21.9, 20.9, 19.6, 20.9, 21.3, 25.9, 27.7, 22.9, 21.6, 21.1, 22.4, 23.6, 22.7, 22.1, 19.2, 22.4, 22.3, 22.3, 24.1, 23.8, 20.7, 22.1, 20.5, 21.5, 18.8, 20.6, 20.0, 20.9, 30.7, 25.54, 27.93, 22.7, 22.66, 24.43, 22.01, 23.73, 16.57, 21.08, 23.26, 24.37, 22.86, 22.24, 22.4, 21.75, 22.5, 21.22, 20.84, 17.81, 16.55, 16.3, 15.65, 17.23, 30.05, 31.7, 30.04, 29.2, 25.58, 25.64, 26.96, 24.24, 26.54, 24.24, 22.44, 23.85, 25.53, 29.24, 28.64, 28.64, 27.52, 26.3, 22.05, 22.59, 22.24, 23.97, 24.32, 34.91, 34.01, 28.93, 26.63, 25.82, 24.46, 27.51, 25.35, 26.76, 25.43, 22.29, 23.67, 23.66, 25.82, 23.37, 20.85, 19.52, 21.0, 20.79, 18.25, 20.71, 19.03, 19.55, 25.46, 24.54, 22.38, 21.87, 18.77, 19.37, 20.38, 20.21, 20.66, 25.49, 26.68, 24.91, 25.9, 24.27, 22.83, 22.64, 24.51, 36.89, 52.46], \"yaxis\": \"y\"}],\n",
              "                        {\"legend\": {\"tracegroupgap\": 0}, \"template\": {\"data\": {\"bar\": [{\"error_x\": {\"color\": \"rgb(51,51,51)\"}, \"error_y\": {\"color\": \"rgb(51,51,51)\"}, \"marker\": {\"line\": {\"color\": \"rgb(237,237,237)\", \"width\": 0.5}}, \"type\": \"bar\"}], \"barpolar\": [{\"marker\": {\"line\": {\"color\": \"rgb(237,237,237)\", \"width\": 0.5}}, \"type\": \"barpolar\"}], \"carpet\": [{\"aaxis\": {\"endlinecolor\": \"rgb(51,51,51)\", \"gridcolor\": \"white\", \"linecolor\": \"white\", \"minorgridcolor\": \"white\", \"startlinecolor\": \"rgb(51,51,51)\"}, \"baxis\": {\"endlinecolor\": \"rgb(51,51,51)\", \"gridcolor\": \"white\", \"linecolor\": \"white\", \"minorgridcolor\": \"white\", \"startlinecolor\": \"rgb(51,51,51)\"}, \"type\": \"carpet\"}], \"choropleth\": [{\"colorbar\": {\"outlinewidth\": 0, \"tickcolor\": \"rgb(237,237,237)\", \"ticklen\": 6, \"ticks\": \"inside\"}, \"type\": \"choropleth\"}], \"contour\": [{\"colorbar\": {\"outlinewidth\": 0, \"tickcolor\": \"rgb(237,237,237)\", \"ticklen\": 6, \"ticks\": \"inside\"}, \"colorscale\": [[0, \"rgb(20,44,66)\"], [1, \"rgb(90,179,244)\"]], \"type\": \"contour\"}], \"contourcarpet\": [{\"colorbar\": {\"outlinewidth\": 0, \"tickcolor\": \"rgb(237,237,237)\", \"ticklen\": 6, \"ticks\": \"inside\"}, \"type\": \"contourcarpet\"}], \"heatmap\": [{\"colorbar\": {\"outlinewidth\": 0, \"tickcolor\": \"rgb(237,237,237)\", \"ticklen\": 6, \"ticks\": \"inside\"}, \"colorscale\": [[0, \"rgb(20,44,66)\"], [1, \"rgb(90,179,244)\"]], \"type\": \"heatmap\"}], \"heatmapgl\": [{\"colorbar\": {\"outlinewidth\": 0, \"tickcolor\": \"rgb(237,237,237)\", \"ticklen\": 6, \"ticks\": \"inside\"}, \"colorscale\": [[0, \"rgb(20,44,66)\"], [1, \"rgb(90,179,244)\"]], \"type\": \"heatmapgl\"}], \"histogram\": [{\"marker\": {\"colorbar\": {\"outlinewidth\": 0, \"tickcolor\": \"rgb(237,237,237)\", \"ticklen\": 6, \"ticks\": \"inside\"}}, \"type\": \"histogram\"}], \"histogram2d\": [{\"colorbar\": {\"outlinewidth\": 0, \"tickcolor\": \"rgb(237,237,237)\", \"ticklen\": 6, \"ticks\": \"inside\"}, \"colorscale\": [[0, \"rgb(20,44,66)\"], [1, \"rgb(90,179,244)\"]], \"type\": \"histogram2d\"}], \"histogram2dcontour\": [{\"colorbar\": {\"outlinewidth\": 0, \"tickcolor\": \"rgb(237,237,237)\", \"ticklen\": 6, \"ticks\": \"inside\"}, \"colorscale\": [[0, \"rgb(20,44,66)\"], [1, \"rgb(90,179,244)\"]], \"type\": \"histogram2dcontour\"}], \"mesh3d\": [{\"colorbar\": {\"outlinewidth\": 0, \"tickcolor\": \"rgb(237,237,237)\", \"ticklen\": 6, \"ticks\": \"inside\"}, \"type\": \"mesh3d\"}], \"parcoords\": [{\"line\": {\"colorbar\": {\"outlinewidth\": 0, \"tickcolor\": \"rgb(237,237,237)\", \"ticklen\": 6, \"ticks\": \"inside\"}}, \"type\": \"parcoords\"}], \"pie\": [{\"automargin\": true, \"type\": \"pie\"}], \"scatter\": [{\"marker\": {\"colorbar\": {\"outlinewidth\": 0, \"tickcolor\": \"rgb(237,237,237)\", \"ticklen\": 6, \"ticks\": \"inside\"}}, \"type\": \"scatter\"}], \"scatter3d\": [{\"line\": {\"colorbar\": {\"outlinewidth\": 0, \"tickcolor\": \"rgb(237,237,237)\", \"ticklen\": 6, \"ticks\": \"inside\"}}, \"marker\": {\"colorbar\": {\"outlinewidth\": 0, \"tickcolor\": \"rgb(237,237,237)\", \"ticklen\": 6, \"ticks\": \"inside\"}}, \"type\": \"scatter3d\"}], \"scattercarpet\": [{\"marker\": {\"colorbar\": {\"outlinewidth\": 0, \"tickcolor\": \"rgb(237,237,237)\", \"ticklen\": 6, \"ticks\": \"inside\"}}, \"type\": \"scattercarpet\"}], \"scattergeo\": [{\"marker\": {\"colorbar\": {\"outlinewidth\": 0, \"tickcolor\": \"rgb(237,237,237)\", \"ticklen\": 6, \"ticks\": \"inside\"}}, \"type\": \"scattergeo\"}], \"scattergl\": [{\"marker\": {\"colorbar\": {\"outlinewidth\": 0, \"tickcolor\": \"rgb(237,237,237)\", \"ticklen\": 6, \"ticks\": \"inside\"}}, \"type\": \"scattergl\"}], \"scattermapbox\": [{\"marker\": {\"colorbar\": {\"outlinewidth\": 0, \"tickcolor\": \"rgb(237,237,237)\", \"ticklen\": 6, \"ticks\": \"inside\"}}, \"type\": \"scattermapbox\"}], \"scatterpolar\": [{\"marker\": {\"colorbar\": {\"outlinewidth\": 0, \"tickcolor\": \"rgb(237,237,237)\", \"ticklen\": 6, \"ticks\": \"inside\"}}, \"type\": \"scatterpolar\"}], \"scatterpolargl\": [{\"marker\": {\"colorbar\": {\"outlinewidth\": 0, \"tickcolor\": \"rgb(237,237,237)\", \"ticklen\": 6, \"ticks\": \"inside\"}}, \"type\": \"scatterpolargl\"}], \"scatterternary\": [{\"marker\": {\"colorbar\": {\"outlinewidth\": 0, \"tickcolor\": \"rgb(237,237,237)\", \"ticklen\": 6, \"ticks\": \"inside\"}}, \"type\": \"scatterternary\"}], \"surface\": [{\"colorbar\": {\"outlinewidth\": 0, \"tickcolor\": \"rgb(237,237,237)\", \"ticklen\": 6, \"ticks\": \"inside\"}, \"colorscale\": [[0, \"rgb(20,44,66)\"], [1, \"rgb(90,179,244)\"]], \"type\": \"surface\"}], \"table\": [{\"cells\": {\"fill\": {\"color\": \"rgb(237,237,237)\"}, \"line\": {\"color\": \"white\"}}, \"header\": {\"fill\": {\"color\": \"rgb(217,217,217)\"}, \"line\": {\"color\": \"white\"}}, \"type\": \"table\"}]}, \"layout\": {\"annotationdefaults\": {\"arrowhead\": 0, \"arrowwidth\": 1}, \"coloraxis\": {\"colorbar\": {\"outlinewidth\": 0, \"tickcolor\": \"rgb(237,237,237)\", \"ticklen\": 6, \"ticks\": \"inside\"}}, \"colorscale\": {\"sequential\": [[0, \"rgb(20,44,66)\"], [1, \"rgb(90,179,244)\"]], \"sequentialminus\": [[0, \"rgb(20,44,66)\"], [1, \"rgb(90,179,244)\"]]}, \"colorway\": [\"#F8766D\", \"#A3A500\", \"#00BF7D\", \"#00B0F6\", \"#E76BF3\"], \"font\": {\"color\": \"rgb(51,51,51)\"}, \"geo\": {\"bgcolor\": \"white\", \"lakecolor\": \"white\", \"landcolor\": \"rgb(237,237,237)\", \"showlakes\": true, \"showland\": true, \"subunitcolor\": \"white\"}, \"hoverlabel\": {\"align\": \"left\"}, \"hovermode\": \"closest\", \"paper_bgcolor\": \"white\", \"plot_bgcolor\": \"rgb(237,237,237)\", \"polar\": {\"angularaxis\": {\"gridcolor\": \"white\", \"linecolor\": \"white\", \"showgrid\": true, \"tickcolor\": \"rgb(51,51,51)\", \"ticks\": \"outside\"}, \"bgcolor\": \"rgb(237,237,237)\", \"radialaxis\": {\"gridcolor\": \"white\", \"linecolor\": \"white\", \"showgrid\": true, \"tickcolor\": \"rgb(51,51,51)\", \"ticks\": \"outside\"}}, \"scene\": {\"xaxis\": {\"backgroundcolor\": \"rgb(237,237,237)\", \"gridcolor\": \"white\", \"gridwidth\": 2, \"linecolor\": \"white\", \"showbackground\": true, \"showgrid\": true, \"tickcolor\": \"rgb(51,51,51)\", \"ticks\": \"outside\", \"zerolinecolor\": \"white\"}, \"yaxis\": {\"backgroundcolor\": \"rgb(237,237,237)\", \"gridcolor\": \"white\", \"gridwidth\": 2, \"linecolor\": \"white\", \"showbackground\": true, \"showgrid\": true, \"tickcolor\": \"rgb(51,51,51)\", \"ticks\": \"outside\", \"zerolinecolor\": \"white\"}, \"zaxis\": {\"backgroundcolor\": \"rgb(237,237,237)\", \"gridcolor\": \"white\", \"gridwidth\": 2, \"linecolor\": \"white\", \"showbackground\": true, \"showgrid\": true, \"tickcolor\": \"rgb(51,51,51)\", \"ticks\": \"outside\", \"zerolinecolor\": \"white\"}}, \"shapedefaults\": {\"fillcolor\": \"black\", \"line\": {\"width\": 0}, \"opacity\": 0.3}, \"ternary\": {\"aaxis\": {\"gridcolor\": \"white\", \"linecolor\": \"white\", \"showgrid\": true, \"tickcolor\": \"rgb(51,51,51)\", \"ticks\": \"outside\"}, \"baxis\": {\"gridcolor\": \"white\", \"linecolor\": \"white\", \"showgrid\": true, \"tickcolor\": \"rgb(51,51,51)\", \"ticks\": \"outside\"}, \"bgcolor\": \"rgb(237,237,237)\", \"caxis\": {\"gridcolor\": \"white\", \"linecolor\": \"white\", \"showgrid\": true, \"tickcolor\": \"rgb(51,51,51)\", \"ticks\": \"outside\"}}, \"xaxis\": {\"automargin\": true, \"gridcolor\": \"white\", \"linecolor\": \"white\", \"showgrid\": true, \"tickcolor\": \"rgb(51,51,51)\", \"ticks\": \"outside\", \"title\": {\"standoff\": 15}, \"zerolinecolor\": \"white\"}, \"yaxis\": {\"automargin\": true, \"gridcolor\": \"white\", \"linecolor\": \"white\", \"showgrid\": true, \"tickcolor\": \"rgb(51,51,51)\", \"ticks\": \"outside\", \"title\": {\"standoff\": 15}, \"zerolinecolor\": \"white\"}}}, \"title\": {\"text\": \"U.S. Viewers trend over years\"}, \"xaxis\": {\"anchor\": \"y\", \"domain\": [0.0, 1.0], \"title\": {\"text\": \"Date\"}}, \"yaxis\": {\"anchor\": \"x\", \"domain\": [0.0, 1.0], \"title\": {\"text\": \"U.S. viewers (in million)\"}}},\n",
              "                        {\"responsive\": true}\n",
              "                    ).then(function(){\n",
              "                            \n",
              "var gd = document.getElementById('9cad119a-f011-48f8-9dc4-aaaedfcb3481');\n",
              "var x = new MutationObserver(function (mutations, observer) {{\n",
              "        var display = window.getComputedStyle(gd).display;\n",
              "        if (!display || display === 'none') {{\n",
              "            console.log([gd, 'removed!']);\n",
              "            Plotly.purge(gd);\n",
              "            observer.disconnect();\n",
              "        }}\n",
              "}});\n",
              "\n",
              "// Listen for the removal of the full notebook cells\n",
              "var notebookContainer = gd.closest('#notebook-container');\n",
              "if (notebookContainer) {{\n",
              "    x.observe(notebookContainer, {childList: true});\n",
              "}}\n",
              "\n",
              "// Listen for the clearing of the current output cell\n",
              "var outputEl = gd.closest('.output');\n",
              "if (outputEl) {{\n",
              "    x.observe(outputEl, {childList: true});\n",
              "}}\n",
              "\n",
              "                        })\n",
              "                };\n",
              "                \n",
              "            </script>\n",
              "        </div>\n",
              "</body>\n",
              "</html>"
            ]
          },
          "metadata": {
            "tags": []
          }
        }
      ]
    },
    {
      "cell_type": "code",
      "metadata": {
        "colab": {
          "base_uri": "https://localhost:8080/",
          "height": 542
        },
        "id": "IOEs9lddeSP2",
        "outputId": "6f3bb477-a444-4074-bd4d-601d22c237f2"
      },
      "source": [
        "df[\"Rating\"] = df[\"Rating/Share\"].apply(lambda x: float(x.split(\"/\")[0]))\n",
        "px.line(df, y=\"Rating\", x=\"Date\", title='Rating trend over years', hover_data=['Title', 'Season-Episode'])"
      ],
      "execution_count": 63,
      "outputs": [
        {
          "output_type": "display_data",
          "data": {
            "text/html": [
              "<html>\n",
              "<head><meta charset=\"utf-8\" /></head>\n",
              "<body>\n",
              "    <div>\n",
              "            <script src=\"https://cdnjs.cloudflare.com/ajax/libs/mathjax/2.7.5/MathJax.js?config=TeX-AMS-MML_SVG\"></script><script type=\"text/javascript\">if (window.MathJax) {MathJax.Hub.Config({SVG: {font: \"STIX-Web\"}});}</script>\n",
              "                <script type=\"text/javascript\">window.PlotlyConfig = {MathJaxConfig: 'local'};</script>\n",
              "        <script src=\"https://cdn.plot.ly/plotly-latest.min.js\"></script>    \n",
              "            <div id=\"17b93489-1110-45db-96c3-d78b5c13a54c\" class=\"plotly-graph-div\" style=\"height:525px; width:100%;\"></div>\n",
              "            <script type=\"text/javascript\">\n",
              "                \n",
              "                    window.PLOTLYENV=window.PLOTLYENV || {};\n",
              "                    \n",
              "                if (document.getElementById(\"17b93489-1110-45db-96c3-d78b5c13a54c\")) {\n",
              "                    Plotly.newPlot(\n",
              "                        '17b93489-1110-45db-96c3-d78b5c13a54c',\n",
              "                        [{\"customdata\": [[\"The Pilot\", \"01-01\"], [\"The One with the Sonogram at the End\", \"01-02\"], [\"The One with the Thumb\", \"01-03\"], [\"The One with George Stephanopoulos\", \"01-04\"], [\"The One with the East German Laundry Detergent\", \"01-05\"], [\"The One with the Butt\", \"01-06\"], [\"The One with the Blackout\", \"01-07\"], [\"The One Where Nana Dies Twice\", \"01-08\"], [\"The One Where Underdog Gets Away\", \"01-09\"], [\"The One with the Monkey\", \"01-10\"], [\"The One with Mrs. Bing\", \"01-11\"], [\"The One with the Dozen Lasagnas\", \"01-12\"], [\"The One with the Boobies\", \"01-13\"], [\"The One with the Candy Hearts\", \"01-14\"], [\"The One with the Stoned Guy\", \"01-15\"], [\"The One with Two Parts, Part I\", \"01-16\"], [\"The One with Two Parts, Part II\", \"01-17\"], [\"The One with All the Poker\", \"01-18\"], [\"The One Where the Monkey Gets Away\", \"01-19\"], [\"The One with the Evil Orthodontist\", \"01-20\"], [\"The One with Fake Monica\", \"01-21\"], [\"The One with the Ick Factor\", \"01-22\"], [\"The One with the Birth\", \"01-23\"], [\"The One Where Rachel Finds Out\", \"01-24\"], [\"The One with Ross's New Girlfriend\", \"02-01\"], [\"The One with the Breast Milk\", \"02-02\"], [\"The One Where Heckles Dies\", \"02-03\"], [\"The One with Phoebe's Husband\", \"02-04\"], [\"The One with Five Steaks and an Eggplant\", \"02-05\"], [\"The One with the Baby on the Bus\", \"02-06\"], [\"The One Where Ross Finds Out\", \"02-07\"], [\"The One with the List\", \"02-08\"], [\"The One with Phoebe's Dad\", \"02-09\"], [\"The One with Russ\", \"02-10\"], [\"The One with the Lesbian Wedding\", \"02-11\"], [\"The One After the Super Bowl\", \"02-1213\"], [\"The One with the Prom Video\", \"02-14\"], [\"The One Where Ross and Rachel... You Know\", \"02-15\"], [\"The One Where Joey Moves Out\", \"02-16\"], [\"The One Where Eddie Moves In\", \"02-17\"], [\"The One Where Dr. Ramoray Dies\", \"02-18\"], [\"The One Where Eddie Won't Go\", \"02-19\"], [\"The One Where Old Yeller Dies\", \"02-20\"], [\"The One with the Bullies\", \"02-21\"], [\"The One with Two Parties\", \"02-22\"], [\"The One with the Chicken Pox\", \"02-23\"], [\"The One with Barry and Mindy's Wedding\", \"02-24\"], [\"The One with the Princess Leia Fantasy\", \"03-01\"], [\"The One Where No One's Ready\", \"03-02\"], [\"The One with the Jam\", \"03-03\"], [\"The One with the Metaphorical Tunnel\", \"03-04\"], [\"The One with Frank Jr.\", \"03-05\"], [\"The One with the Flashback\", \"03-06\"], [\"The One with the Racecar Bed\", \"03-07\"], [\"The One with the Giant Poking Device\", \"03-08\"], [\"The One with the Football\", \"03-09\"], [\"The One Where Rachel Quits\", \"03-10\"], [\"The One Where Chandler Can't Remember Which Sister\", \"03-11\"], [\"The One with All the Jealousy\", \"03-12\"], [\"The One Where Monica and Richard Are Just Friends\", \"03-13\"], [\"The One with Phoebe's Ex-Partner\", \"03-14\"], [\"The One Where Ross and Rachel Take a Break\", \"03-15\"], [\"The One the Morning After\", \"03-16\"], [\"The One Without the Ski Trip\", \"03-17\"], [\"The One with the Hypnosis Tape\", \"03-18\"], [\"The One with the Tiny T-Shirt\", \"03-19\"], [\"The One with the Dollhouse\", \"03-20\"], [\"The One with a Chick and a Duck\", \"03-21\"], [\"The One with the Screamer\", \"03-22\"], [\"The One with Ross's Thing\", \"03-23\"], [\"The One with the Ultimate Fighting Champion\", \"03-24\"], [\"The One at the Beach\", \"03-25\"], [\"The One with the Jellyfish\", \"04-01\"], [\"The One with the Cat\", \"04-02\"], [\"The One with the Cuffs\", \"04-03\"], [\"The One with the Ballroom Dancing\", \"04-04\"], [\"The One with Joey's New Girlfriend\", \"04-05\"], [\"The One with the Dirty Girl\", \"04-06\"], [\"The One Where Chandler Crosses the Line\", \"04-07\"], [\"The One with Chandler in a Box\", \"04-08\"], [\"The One Where They're Going to Party!\", \"04-09\"], [\"The One with the Girl from Poughkeepsie\", \"04-10\"], [\"The One with Phoebe's Uterus\", \"04-11\"], [\"The One with the Embryos\", \"04-12\"], [\"The One with Rachel's Crush\", \"04-13\"], [\"The One with Joey's Dirty Day\", \"04-14\"], [\"The One with All the Rugby\", \"04-15\"], [\"The One with the Fake Party\", \"04-16\"], [\"The One with the Free Porn\", \"04-17\"], [\"The One with Rachel's New Dress\", \"04-18\"], [\"The One with All the Haste\", \"04-19\"], [\"The One with All the Wedding Dresses\", \"04-20\"], [\"The One with the Invitation\", \"04-21\"], [\"The One with the Worst Best Man Ever\", \"04-22\"], [\"The One with Ross's Wedding\", \"04-2324\"], [\"The One After Ross Says Rachel\", \"05-01\"], [\"The One with All the Kissing\", \"05-02\"], [\"The One Hundredth\", \"05-03\"], [\"The One Where Phoebe Hates PBS\", \"05-04\"], [\"The One with the Kips\", \"05-05\"], [\"The One with the Yeti\", \"05-06\"], [\"The One Where Ross Moves In\", \"05-07\"], [\"The One with All the Thanksgivings\", \"05-08\"], [\"The One with Ross's Sandwich\", \"05-09\"], [\"The One with the Inappropriate Sister\", \"05-10\"], [\"The One with All the Resolutions\", \"05-11\"], [\"The One with Chandler's Work Laugh\", \"05-12\"], [\"The One with Joey's Bag\", \"05-13\"], [\"The One Where Everybody Finds Out\", \"05-14\"], [\"The One with the Girl Who Hits Joey\", \"05-15\"], [\"The One with the Cop\", \"05-16\"], [\"The One with Rachel's Inadvertent Kiss\", \"05-17\"], [\"The One Where Rachel Smokes\", \"05-18\"], [\"The One Where Ross Can't Flirt\", \"05-19\"], [\"The One with the Ride Along\", \"05-20\"], [\"The One with the Ball\", \"05-21\"], [\"The One with Joey's Big Break\", \"05-22\"], [\"The One in Vegas\", \"05-2324\"], [\"The One After Vegas\", \"06-01\"], [\"The One Where Ross Hugs Rachel\", \"06-02\"], [\"The One with Ross's Denial\", \"06-03\"], [\"The One Where Joey Loses His Insurance\", \"06-04\"], [\"The One with Joey's Porsche\", \"06-05\"], [\"The One on the Last Night\", \"06-06\"], [\"The One Where Phoebe Runs\", \"06-07\"], [\"The One with Ross's Teeth\", \"06-08\"], [\"The One Where Ross Got High\", \"06-09\"], [\"The One with the Routine\", \"06-10\"], [\"The One with the Apothecary Table\", \"06-11\"], [\"The One with the Joke\", \"06-12\"], [\"The One with Rachel's Sister\", \"06-13\"], [\"The One Where Chandler Can't Cry\", \"06-14\"], [\"The One That Could Have Been\", \"06-1516\"], [\"The One with Unagi\", \"06-17\"], [\"The One Where Ross Dates a Student\", \"06-18\"], [\"The One with Joey's Fridge\", \"06-19\"], [\"The One with Mac and C.H.E.E.S.E.\", \"06-20\"], [\"The One Where Ross Meets Elizabeth's Dad\", \"06-21\"], [\"The One Where Paul's the Man\", \"06-22\"], [\"The One with the Ring\", \"06-23\"], [\"The One with the Proposal\", \"06-2425\"], [\"The One with Monica's Thunder\", \"07-01\"], [\"The One with Rachel's Book\", \"07-02\"], [\"The One with Phoebe's Cookies\", \"07-03\"], [\"The One with Rachel's Assistant\", \"07-04\"], [\"The One with the Engagement Picture\", \"07-05\"], [\"The One with the Nap Partners\", \"07-06\"], [\"The One with Ross's Library Book\", \"07-07\"], [\"The One Where Chandler Doesn't Like Dogs\", \"07-08\"], [\"The One with All the Candy\", \"07-09\"], [\"The One with the Holiday Armadillo\", \"07-10\"], [\"The One with All the Cheesecakes\", \"07-11\"], [\"The One Where They're Up All Night\", \"07-12\"], [\"The One Where Rosita Dies\", \"07-13\"], [\"The One Where They All Turn Thirty\", \"07-14\"], [\"The One with Joey's New Brain\", \"07-15\"], [\"Friends: The Stuff You've Never Seen\", \"10-100\"], [\"The One with the Truth About London\", \"07-16\"], [\"The One with the Cheap Wedding Dress\", \"07-17\"], [\"The One with Joey's Award\", \"07-18\"], [\"The One with Ross and Monica's Cousin\", \"07-19\"], [\"The One with Rachel's Big Kiss\", \"07-20\"], [\"The One with the Vows\", \"07-21\"], [\"The One with Chandler's Dad\", \"07-22\"], [\"The One with Monica and Chandler's Wedding\", \"07-2324\"], [\"The One After \\\"I Do\\\"\", \"08-01\"], [\"The One with the Red Sweater\", \"08-02\"], [\"The One Where Rachel Tells...\", \"08-03\"], [\"The One with the Videotape\", \"08-04\"], [\"The One with Rachel's Date\", \"08-05\"], [\"The One with the Halloween Party\", \"08-06\"], [\"The One with the Stain\", \"08-07\"], [\"The One with the Stripper\", \"08-08\"], [\"The One with the Rumor\", \"08-09\"], [\"The One with Monica's Boots\", \"08-10\"], [\"The One with Ross's Step Forward\", \"08-11\"], [\"The One Where Joey Dates Rachel\", \"08-12\"], [\"The One Where Chandler Takes a Bath\", \"08-13\"], [\"The One with the Secret Closet\", \"08-14\"], [\"The One with the Birthing Video\", \"08-15\"], [\"The One Where Joey Tells Rachel\", \"08-16\"], [\"The One with the Tea Leaves\", \"08-17\"], [\"The One in Massapequa\", \"08-18\"], [\"The One with Joey's Interview\", \"08-19\"], [\"The One with the Baby Shower\", \"08-20\"], [\"The One with the Cooking Class\", \"08-21\"], [\"The One Where Rachel Is Late\", \"08-22\"], [\"The One Where Rachel Has a Baby\", \"08-2324\"], [\"The One Where No One Proposes\", \"09-01\"], [\"The One Where Emma Cries\", \"09-02\"], [\"The One with the Pediatrician\", \"09-03\"], [\"The One with the Sharks\", \"09-04\"], [\"The One with Phoebe's Birthday Dinner\", \"09-05\"], [\"The One with the Male Nanny\", \"09-06\"], [\"The One with Ross's Inappropriate Song\", \"09-07\"], [\"The One with Rachel's Other Sister\", \"09-08\"], [\"The One with Rachel's Phone Number\", \"09-09\"], [\"The One with Christmas in Tulsa\", \"09-10\"], [\"The One Where Rachel Goes Back to Work\", \"09-11\"], [\"The One with Phoebe's Rats\", \"09-12\"], [\"The One Where Monica Sings\", \"09-13\"], [\"The One with the Blind Date\", \"09-14\"], [\"The One with the Mugging\", \"09-15\"], [\"The One with the Boob Job\", \"09-16\"], [\"The One with the Memorial Service\", \"09-17\"], [\"The One with the Lottery\", \"09-18\"], [\"The One with Rachel's Dream\", \"09-19\"], [\"The One with the Soap Opera Party\", \"09-20\"], [\"The One with the Fertility Test\", \"09-21\"], [\"The One with the Donor\", \"09-22\"], [\"The One in Barbados\", \"09-2324\"], [\"The One After Joey & Rachel Kiss\", \"10-01\"], [\"The One Where Ross Is Fine\", \"10-02\"], [\"The One with Ross's Tan\", \"10-03\"], [\"The One with the Cake\", \"10-04\"], [\"The One Where Rachel's Sister Baby-Sits\", \"10-05\"], [\"The One with Ross's Grant\", \"10-06\"], [\"The One with the Home Study\", \"10-07\"], [\"The One with the Late Thanksgiving\", \"10-08\"], [\"The One with the Birth Mother\", \"10-09\"], [\"The One Where Chandler Gets Caught\", \"10-10\"], [\"The One Where the Stripper Cries\", \"10-11\"], [\"The One with Phoebe's Wedding\", \"10-12\"], [\"The One Where Joey Speaks French\", \"10-13\"], [\"The One with Princess Consuela\", \"10-14\"], [\"The One Where Estelle Dies\", \"10-15\"], [\"The One with Rachel's Going Away Party\", \"10-16\"], [\"The One Before the Last One:\\nTen Years of Friends\", \"10-100\"], [\"The Last One\", \"10-1718\"]], \"hoverlabel\": {\"namelength\": 0}, \"hovertemplate\": \"Date=%{x}<br>Rating=%{y}<br>Title=%{customdata[0]}<br>Season-Episode=%{customdata[1]}\", \"legendgroup\": \"\", \"line\": {\"color\": \"#F8766D\", \"dash\": \"solid\"}, \"mode\": \"lines\", \"name\": \"\", \"showlegend\": false, \"type\": \"scatter\", \"x\": [\"09/22/94\", \"09/29/94\", \"10/06/94\", \"10/13/94\", \"10/20/94\", \"10/27/94\", \"11/03/94\", \"11/10/94\", \"11/17/94\", \"12/15/94\", \"01/05/95\", \"01/12/95\", \"01/19/95\", \"02/09/95\", \"02/16/95\", \"02/23/95\", \"02/23/95\", \"03/02/95\", \"03/09/95\", \"04/06/95\", \"04/27/95\", \"05/04/95\", \"05/11/95\", \"05/18/95\", \"09/21/95\", \"09/28/95\", \"10/05/95\", \"10/12/95\", \"10/19/95\", \"11/02/95\", \"11/09/95\", \"11/16/95\", \"12/14/95\", \"01/04/96\", \"01/18/96\", \"01/28/96\", \"02/01/96\", \"02/08/96\", \"02/15/96\", \"02/22/96\", \"03/21/96\", \"03/28/96\", \"04/04/96\", \"04/25/96\", \"05/02/96\", \"05/09/96\", \"05/16/96\", \"09/19/96\", \"09/26/96\", \"10/03/96\", \"10/10/96\", \"10/17/96\", \"10/31/96\", \"11/07/96\", \"11/14/96\", \"11/21/96\", \"12/12/96\", \"01/09/97\", \"01/16/97\", \"01/30/97\", \"02/06/97\", \"02/13/97\", \"02/20/97\", \"03/06/97\", \"03/13/97\", \"03/27/97\", \"04/10/97\", \"04/17/97\", \"04/24/97\", \"05/01/97\", \"05/08/97\", \"05/15/97\", \"09/25/97\", \"10/02/97\", \"10/09/97\", \"10/16/97\", \"10/30/97\", \"11/06/97\", \"11/13/97\", \"11/20/97\", \"12/11/97\", \"12/18/97\", \"01/08/98\", \"01/15/98\", \"01/29/98\", \"02/05/98\", \"02/26/98\", \"03/19/98\", \"03/26/98\", \"04/02/98\", \"04/09/98\", \"04/16/98\", \"04/23/98\", \"04/30/98\", \"05/07/98\", \"09/24/98\", \"10/01/98\", \"10/08/98\", \"10/15/98\", \"10/29/98\", \"11/05/98\", \"11/12/98\", \"11/19/98\", \"12/10/98\", \"12/17/98\", \"01/07/99\", \"01/21/99\", \"02/04/99\", \"02/11/99\", \"02/18/99\", \"02/25/99\", \"03/18/99\", \"04/08/99\", \"04/22/99\", \"04/29/99\", \"05/06/99\", \"05/13/99\", \"05/20/99\", \"09/23/99\", \"09/30/99\", \"10/07/99\", \"10/14/99\", \"10/21/99\", \"11/04/99\", \"11/11/99\", \"11/18/99\", \"11/25/99\", \"12/16/99\", \"01/06/00\", \"01/13/00\", \"02/03/00\", \"02/10/00\", \"02/17/00\", \"02/24/00\", \"03/09/00\", \"03/23/00\", \"04/13/00\", \"04/27/00\", \"05/04/00\", \"05/11/00\", \"05/18/00\", \"10/12/00\", \"10/12/00\", \"10/19/00\", \"10/26/00\", \"11/02/00\", \"11/09/00\", \"11/16/00\", \"11/23/00\", \"12/07/00\", \"12/14/00\", \"01/04/01\", \"01/11/01\", \"02/01/01\", \"02/08/01\", \"02/15/01\", \"02/15/01\", \"02/22/01\", \"03/15/01\", \"03/29/01\", \"04/19/01\", \"04/26/01\", \"05/03/01\", \"05/10/01\", \"05/17/01\", \"09/27/01\", \"10/04/01\", \"10/11/01\", \"10/18/01\", \"10/25/01\", \"11/01/01\", \"11/08/01\", \"11/15/01\", \"11/22/01\", \"12/06/01\", \"12/13/01\", \"01/10/02\", \"01/17/02\", \"01/31/02\", \"02/07/02\", \"02/28/02\", \"03/07/02\", \"03/28/02\", \"04/04/02\", \"04/25/02\", \"05/02/02\", \"05/09/02\", \"05/16/02\", \"09/26/02\", \"10/03/02\", \"10/10/02\", \"10/17/02\", \"10/31/02\", \"11/07/02\", \"11/14/02\", \"11/21/02\", \"12/05/02\", \"12/12/02\", \"01/09/03\", \"01/16/03\", \"01/30/03\", \"02/06/03\", \"02/13/03\", \"02/20/03\", \"03/13/03\", \"04/03/03\", \"04/17/03\", \"04/24/03\", \"05/01/03\", \"05/08/03\", \"05/15/03\", \"09/25/03\", \"10/02/03\", \"10/09/03\", \"10/23/03\", \"10/30/03\", \"11/06/03\", \"11/13/03\", \"11/20/03\", \"01/08/04\", \"01/15/04\", \"02/05/04\", \"02/12/04\", \"02/19/04\", \"02/26/04\", \"04/22/04\", \"04/29/04\", \"05/06/04\", \"05/06/04\"], \"xaxis\": \"x\", \"y\": [14.7, 14.0, 13.6, 13.7, 12.9, 12.4, 16.1, 14.2, 15.7, 13.6, 17.6, 16.1, 17.3, 15.9, 16.9, 17.5, 20.8, 20.4, 20.0, 20.5, 19.2, 20.7, 19.7, 21.3, 20.5, 19.3, 19.8, 19.3, 18.6, 19.7, 19.6, 21.1, 18.8, 21.0, 20.8, 29.6, 21.7, 21.7, 21.1, 20.0, 19.9, 20.0, 18.4, 16.6, 18.0, 18.1, 19.1, 16.7, 18.4, 17.3, 18.0, 16.1, 16.0, 18.0, 18.8, 19.0, 16.1, 19.4, 19.4, 18.9, 19.0, 18.3, 18.6, 17.5, 18.7, 16.0, 16.3, 16.0, 15.5, 16.6, 15.6, 16.5, 19.5, 17.6, 16.7, 16.4, 16.3, 17.5, 18.2, 18.4, 16.1, 15.2, 15.7, 17.3, 16.9, 17.0, 16.5, 15.9, 15.9, 14.9, 15.4, 15.3, 15.3, 16.0, 21.2, 20.0, 17.4, 17.7, 15.7, 17.0, 16.8, 16.1, 16.3, 15.7, 15.8, 17.6, 16.8, 16.9, 17.8, 19.0, 17.6, 16.6, 14.8, 14.4, 13.9, 14.3, 14.8, 17.0, 17.8, 15.8, 14.9, 13.8, 15.0, 15.5, 15.1, 14.8, 10.9, 15.0, 14.9, 15.1, 15.6, 15.4, 16.7, 14.4, 13.9, 14.3, 12.8, 14.7, 13.7, 14.4, 20.0, 16.6, 18.0, 15.2, 14.7, 15.2, 14.5, 15.7, 9.6, 13.6, 15.1, 15.0, 14.8, 14.2, 13.9, 14.0, 14.4, 13.7, 13.9, 12.1, 11.4, 10.9, 10.1, 11.4, 18.7, 19.5, 18.9, 17.9, 16.0, 16.1, 16.8, 15.2, 16.1, 12.7, 14.0, 14.9, 16.1, 17.5, 17.8, 17.8, 17.4, 16.3, 13.7, 14.7, 14.4, 15.4, 15.4, 21.1, 20.3, 17.6, 16.6, 16.1, 15.6, 17.0, 15.8, 17.0, 15.8, 14.5, 15.2, 15.1, 16.3, 14.7, 13.5, 12.8, 13.5, 13.0, 12.0, 13.7, 12.8, 12.8, 16.0, 15.6, 15.1, 14.0, 12.4, 13.0, 13.4, 13.2, 13.4, 15.7, 16.6, 16.0, 16.3, 15.2, 14.6, 14.4, 15.5, 22.0, 29.8], \"yaxis\": \"y\"}],\n",
              "                        {\"legend\": {\"tracegroupgap\": 0}, \"template\": {\"data\": {\"bar\": [{\"error_x\": {\"color\": \"rgb(51,51,51)\"}, \"error_y\": {\"color\": \"rgb(51,51,51)\"}, \"marker\": {\"line\": {\"color\": \"rgb(237,237,237)\", \"width\": 0.5}}, \"type\": \"bar\"}], \"barpolar\": [{\"marker\": {\"line\": {\"color\": \"rgb(237,237,237)\", \"width\": 0.5}}, \"type\": \"barpolar\"}], \"carpet\": [{\"aaxis\": {\"endlinecolor\": \"rgb(51,51,51)\", \"gridcolor\": \"white\", \"linecolor\": \"white\", \"minorgridcolor\": \"white\", \"startlinecolor\": \"rgb(51,51,51)\"}, \"baxis\": {\"endlinecolor\": \"rgb(51,51,51)\", \"gridcolor\": \"white\", \"linecolor\": \"white\", \"minorgridcolor\": \"white\", \"startlinecolor\": \"rgb(51,51,51)\"}, \"type\": \"carpet\"}], \"choropleth\": [{\"colorbar\": {\"outlinewidth\": 0, \"tickcolor\": \"rgb(237,237,237)\", \"ticklen\": 6, \"ticks\": \"inside\"}, \"type\": \"choropleth\"}], \"contour\": [{\"colorbar\": {\"outlinewidth\": 0, \"tickcolor\": \"rgb(237,237,237)\", \"ticklen\": 6, \"ticks\": \"inside\"}, \"colorscale\": [[0, \"rgb(20,44,66)\"], [1, \"rgb(90,179,244)\"]], \"type\": \"contour\"}], \"contourcarpet\": [{\"colorbar\": {\"outlinewidth\": 0, \"tickcolor\": \"rgb(237,237,237)\", \"ticklen\": 6, \"ticks\": \"inside\"}, \"type\": \"contourcarpet\"}], \"heatmap\": [{\"colorbar\": {\"outlinewidth\": 0, \"tickcolor\": \"rgb(237,237,237)\", \"ticklen\": 6, \"ticks\": \"inside\"}, \"colorscale\": [[0, \"rgb(20,44,66)\"], [1, \"rgb(90,179,244)\"]], \"type\": \"heatmap\"}], \"heatmapgl\": [{\"colorbar\": {\"outlinewidth\": 0, \"tickcolor\": \"rgb(237,237,237)\", \"ticklen\": 6, \"ticks\": \"inside\"}, \"colorscale\": [[0, \"rgb(20,44,66)\"], [1, \"rgb(90,179,244)\"]], \"type\": \"heatmapgl\"}], \"histogram\": [{\"marker\": {\"colorbar\": {\"outlinewidth\": 0, \"tickcolor\": \"rgb(237,237,237)\", \"ticklen\": 6, \"ticks\": \"inside\"}}, \"type\": \"histogram\"}], \"histogram2d\": [{\"colorbar\": {\"outlinewidth\": 0, \"tickcolor\": \"rgb(237,237,237)\", \"ticklen\": 6, \"ticks\": \"inside\"}, \"colorscale\": [[0, \"rgb(20,44,66)\"], [1, \"rgb(90,179,244)\"]], \"type\": \"histogram2d\"}], \"histogram2dcontour\": [{\"colorbar\": {\"outlinewidth\": 0, \"tickcolor\": \"rgb(237,237,237)\", \"ticklen\": 6, \"ticks\": \"inside\"}, \"colorscale\": [[0, \"rgb(20,44,66)\"], [1, \"rgb(90,179,244)\"]], \"type\": \"histogram2dcontour\"}], \"mesh3d\": [{\"colorbar\": {\"outlinewidth\": 0, \"tickcolor\": \"rgb(237,237,237)\", \"ticklen\": 6, \"ticks\": \"inside\"}, \"type\": \"mesh3d\"}], \"parcoords\": [{\"line\": {\"colorbar\": {\"outlinewidth\": 0, \"tickcolor\": \"rgb(237,237,237)\", \"ticklen\": 6, \"ticks\": \"inside\"}}, \"type\": \"parcoords\"}], \"pie\": [{\"automargin\": true, \"type\": \"pie\"}], \"scatter\": [{\"marker\": {\"colorbar\": {\"outlinewidth\": 0, \"tickcolor\": \"rgb(237,237,237)\", \"ticklen\": 6, \"ticks\": \"inside\"}}, \"type\": \"scatter\"}], \"scatter3d\": [{\"line\": {\"colorbar\": {\"outlinewidth\": 0, \"tickcolor\": \"rgb(237,237,237)\", \"ticklen\": 6, \"ticks\": \"inside\"}}, \"marker\": {\"colorbar\": {\"outlinewidth\": 0, \"tickcolor\": \"rgb(237,237,237)\", \"ticklen\": 6, \"ticks\": \"inside\"}}, \"type\": \"scatter3d\"}], \"scattercarpet\": [{\"marker\": {\"colorbar\": {\"outlinewidth\": 0, \"tickcolor\": \"rgb(237,237,237)\", \"ticklen\": 6, \"ticks\": \"inside\"}}, \"type\": \"scattercarpet\"}], \"scattergeo\": [{\"marker\": {\"colorbar\": {\"outlinewidth\": 0, \"tickcolor\": \"rgb(237,237,237)\", \"ticklen\": 6, \"ticks\": \"inside\"}}, \"type\": \"scattergeo\"}], \"scattergl\": [{\"marker\": {\"colorbar\": {\"outlinewidth\": 0, \"tickcolor\": \"rgb(237,237,237)\", \"ticklen\": 6, \"ticks\": \"inside\"}}, \"type\": \"scattergl\"}], \"scattermapbox\": [{\"marker\": {\"colorbar\": {\"outlinewidth\": 0, \"tickcolor\": \"rgb(237,237,237)\", \"ticklen\": 6, \"ticks\": \"inside\"}}, \"type\": \"scattermapbox\"}], \"scatterpolar\": [{\"marker\": {\"colorbar\": {\"outlinewidth\": 0, \"tickcolor\": \"rgb(237,237,237)\", \"ticklen\": 6, \"ticks\": \"inside\"}}, \"type\": \"scatterpolar\"}], \"scatterpolargl\": [{\"marker\": {\"colorbar\": {\"outlinewidth\": 0, \"tickcolor\": \"rgb(237,237,237)\", \"ticklen\": 6, \"ticks\": \"inside\"}}, \"type\": \"scatterpolargl\"}], \"scatterternary\": [{\"marker\": {\"colorbar\": {\"outlinewidth\": 0, \"tickcolor\": \"rgb(237,237,237)\", \"ticklen\": 6, \"ticks\": \"inside\"}}, \"type\": \"scatterternary\"}], \"surface\": [{\"colorbar\": {\"outlinewidth\": 0, \"tickcolor\": \"rgb(237,237,237)\", \"ticklen\": 6, \"ticks\": \"inside\"}, \"colorscale\": [[0, \"rgb(20,44,66)\"], [1, \"rgb(90,179,244)\"]], \"type\": \"surface\"}], \"table\": [{\"cells\": {\"fill\": {\"color\": \"rgb(237,237,237)\"}, \"line\": {\"color\": \"white\"}}, \"header\": {\"fill\": {\"color\": \"rgb(217,217,217)\"}, \"line\": {\"color\": \"white\"}}, \"type\": \"table\"}]}, \"layout\": {\"annotationdefaults\": {\"arrowhead\": 0, \"arrowwidth\": 1}, \"coloraxis\": {\"colorbar\": {\"outlinewidth\": 0, \"tickcolor\": \"rgb(237,237,237)\", \"ticklen\": 6, \"ticks\": \"inside\"}}, \"colorscale\": {\"sequential\": [[0, \"rgb(20,44,66)\"], [1, \"rgb(90,179,244)\"]], \"sequentialminus\": [[0, \"rgb(20,44,66)\"], [1, \"rgb(90,179,244)\"]]}, \"colorway\": [\"#F8766D\", \"#A3A500\", \"#00BF7D\", \"#00B0F6\", \"#E76BF3\"], \"font\": {\"color\": \"rgb(51,51,51)\"}, \"geo\": {\"bgcolor\": \"white\", \"lakecolor\": \"white\", \"landcolor\": \"rgb(237,237,237)\", \"showlakes\": true, \"showland\": true, \"subunitcolor\": \"white\"}, \"hoverlabel\": {\"align\": \"left\"}, \"hovermode\": \"closest\", \"paper_bgcolor\": \"white\", \"plot_bgcolor\": \"rgb(237,237,237)\", \"polar\": {\"angularaxis\": {\"gridcolor\": \"white\", \"linecolor\": \"white\", \"showgrid\": true, \"tickcolor\": \"rgb(51,51,51)\", \"ticks\": \"outside\"}, \"bgcolor\": \"rgb(237,237,237)\", \"radialaxis\": {\"gridcolor\": \"white\", \"linecolor\": \"white\", \"showgrid\": true, \"tickcolor\": \"rgb(51,51,51)\", \"ticks\": \"outside\"}}, \"scene\": {\"xaxis\": {\"backgroundcolor\": \"rgb(237,237,237)\", \"gridcolor\": \"white\", \"gridwidth\": 2, \"linecolor\": \"white\", \"showbackground\": true, \"showgrid\": true, \"tickcolor\": \"rgb(51,51,51)\", \"ticks\": \"outside\", \"zerolinecolor\": \"white\"}, \"yaxis\": {\"backgroundcolor\": \"rgb(237,237,237)\", \"gridcolor\": \"white\", \"gridwidth\": 2, \"linecolor\": \"white\", \"showbackground\": true, \"showgrid\": true, \"tickcolor\": \"rgb(51,51,51)\", \"ticks\": \"outside\", \"zerolinecolor\": \"white\"}, \"zaxis\": {\"backgroundcolor\": \"rgb(237,237,237)\", \"gridcolor\": \"white\", \"gridwidth\": 2, \"linecolor\": \"white\", \"showbackground\": true, \"showgrid\": true, \"tickcolor\": \"rgb(51,51,51)\", \"ticks\": \"outside\", \"zerolinecolor\": \"white\"}}, \"shapedefaults\": {\"fillcolor\": \"black\", \"line\": {\"width\": 0}, \"opacity\": 0.3}, \"ternary\": {\"aaxis\": {\"gridcolor\": \"white\", \"linecolor\": \"white\", \"showgrid\": true, \"tickcolor\": \"rgb(51,51,51)\", \"ticks\": \"outside\"}, \"baxis\": {\"gridcolor\": \"white\", \"linecolor\": \"white\", \"showgrid\": true, \"tickcolor\": \"rgb(51,51,51)\", \"ticks\": \"outside\"}, \"bgcolor\": \"rgb(237,237,237)\", \"caxis\": {\"gridcolor\": \"white\", \"linecolor\": \"white\", \"showgrid\": true, \"tickcolor\": \"rgb(51,51,51)\", \"ticks\": \"outside\"}}, \"xaxis\": {\"automargin\": true, \"gridcolor\": \"white\", \"linecolor\": \"white\", \"showgrid\": true, \"tickcolor\": \"rgb(51,51,51)\", \"ticks\": \"outside\", \"title\": {\"standoff\": 15}, \"zerolinecolor\": \"white\"}, \"yaxis\": {\"automargin\": true, \"gridcolor\": \"white\", \"linecolor\": \"white\", \"showgrid\": true, \"tickcolor\": \"rgb(51,51,51)\", \"ticks\": \"outside\", \"title\": {\"standoff\": 15}, \"zerolinecolor\": \"white\"}}}, \"title\": {\"text\": \"Rating trend over years\"}, \"xaxis\": {\"anchor\": \"y\", \"domain\": [0.0, 1.0], \"title\": {\"text\": \"Date\"}}, \"yaxis\": {\"anchor\": \"x\", \"domain\": [0.0, 1.0], \"title\": {\"text\": \"Rating\"}}},\n",
              "                        {\"responsive\": true}\n",
              "                    ).then(function(){\n",
              "                            \n",
              "var gd = document.getElementById('17b93489-1110-45db-96c3-d78b5c13a54c');\n",
              "var x = new MutationObserver(function (mutations, observer) {{\n",
              "        var display = window.getComputedStyle(gd).display;\n",
              "        if (!display || display === 'none') {{\n",
              "            console.log([gd, 'removed!']);\n",
              "            Plotly.purge(gd);\n",
              "            observer.disconnect();\n",
              "        }}\n",
              "}});\n",
              "\n",
              "// Listen for the removal of the full notebook cells\n",
              "var notebookContainer = gd.closest('#notebook-container');\n",
              "if (notebookContainer) {{\n",
              "    x.observe(notebookContainer, {childList: true});\n",
              "}}\n",
              "\n",
              "// Listen for the clearing of the current output cell\n",
              "var outputEl = gd.closest('.output');\n",
              "if (outputEl) {{\n",
              "    x.observe(outputEl, {childList: true});\n",
              "}}\n",
              "\n",
              "                        })\n",
              "                };\n",
              "                \n",
              "            </script>\n",
              "        </div>\n",
              "</body>\n",
              "</html>"
            ]
          },
          "metadata": {
            "tags": []
          }
        }
      ]
    },
    {
      "cell_type": "code",
      "metadata": {
        "colab": {
          "base_uri": "https://localhost:8080/",
          "height": 542
        },
        "id": "NEIy-h81K-d2",
        "outputId": "c80dcbc1-6508-49d8-eedb-2dbd79860ebd"
      },
      "source": [
        "df[\"Share\"] = df[\"Rating/Share\"].apply(lambda x: float(x.split(\"/\")[1]))\n",
        "px.line(df, y=\"Share\", x=\"Date\", title='Share trend over years', hover_data=['Title', 'Season-Episode'])"
      ],
      "execution_count": 64,
      "outputs": [
        {
          "output_type": "display_data",
          "data": {
            "text/html": [
              "<html>\n",
              "<head><meta charset=\"utf-8\" /></head>\n",
              "<body>\n",
              "    <div>\n",
              "            <script src=\"https://cdnjs.cloudflare.com/ajax/libs/mathjax/2.7.5/MathJax.js?config=TeX-AMS-MML_SVG\"></script><script type=\"text/javascript\">if (window.MathJax) {MathJax.Hub.Config({SVG: {font: \"STIX-Web\"}});}</script>\n",
              "                <script type=\"text/javascript\">window.PlotlyConfig = {MathJaxConfig: 'local'};</script>\n",
              "        <script src=\"https://cdn.plot.ly/plotly-latest.min.js\"></script>    \n",
              "            <div id=\"af74eb56-f073-46ca-b266-5c35ff040056\" class=\"plotly-graph-div\" style=\"height:525px; width:100%;\"></div>\n",
              "            <script type=\"text/javascript\">\n",
              "                \n",
              "                    window.PLOTLYENV=window.PLOTLYENV || {};\n",
              "                    \n",
              "                if (document.getElementById(\"af74eb56-f073-46ca-b266-5c35ff040056\")) {\n",
              "                    Plotly.newPlot(\n",
              "                        'af74eb56-f073-46ca-b266-5c35ff040056',\n",
              "                        [{\"customdata\": [[\"The Pilot\", \"01-01\"], [\"The One with the Sonogram at the End\", \"01-02\"], [\"The One with the Thumb\", \"01-03\"], [\"The One with George Stephanopoulos\", \"01-04\"], [\"The One with the East German Laundry Detergent\", \"01-05\"], [\"The One with the Butt\", \"01-06\"], [\"The One with the Blackout\", \"01-07\"], [\"The One Where Nana Dies Twice\", \"01-08\"], [\"The One Where Underdog Gets Away\", \"01-09\"], [\"The One with the Monkey\", \"01-10\"], [\"The One with Mrs. Bing\", \"01-11\"], [\"The One with the Dozen Lasagnas\", \"01-12\"], [\"The One with the Boobies\", \"01-13\"], [\"The One with the Candy Hearts\", \"01-14\"], [\"The One with the Stoned Guy\", \"01-15\"], [\"The One with Two Parts, Part I\", \"01-16\"], [\"The One with Two Parts, Part II\", \"01-17\"], [\"The One with All the Poker\", \"01-18\"], [\"The One Where the Monkey Gets Away\", \"01-19\"], [\"The One with the Evil Orthodontist\", \"01-20\"], [\"The One with Fake Monica\", \"01-21\"], [\"The One with the Ick Factor\", \"01-22\"], [\"The One with the Birth\", \"01-23\"], [\"The One Where Rachel Finds Out\", \"01-24\"], [\"The One with Ross's New Girlfriend\", \"02-01\"], [\"The One with the Breast Milk\", \"02-02\"], [\"The One Where Heckles Dies\", \"02-03\"], [\"The One with Phoebe's Husband\", \"02-04\"], [\"The One with Five Steaks and an Eggplant\", \"02-05\"], [\"The One with the Baby on the Bus\", \"02-06\"], [\"The One Where Ross Finds Out\", \"02-07\"], [\"The One with the List\", \"02-08\"], [\"The One with Phoebe's Dad\", \"02-09\"], [\"The One with Russ\", \"02-10\"], [\"The One with the Lesbian Wedding\", \"02-11\"], [\"The One After the Super Bowl\", \"02-1213\"], [\"The One with the Prom Video\", \"02-14\"], [\"The One Where Ross and Rachel... You Know\", \"02-15\"], [\"The One Where Joey Moves Out\", \"02-16\"], [\"The One Where Eddie Moves In\", \"02-17\"], [\"The One Where Dr. Ramoray Dies\", \"02-18\"], [\"The One Where Eddie Won't Go\", \"02-19\"], [\"The One Where Old Yeller Dies\", \"02-20\"], [\"The One with the Bullies\", \"02-21\"], [\"The One with Two Parties\", \"02-22\"], [\"The One with the Chicken Pox\", \"02-23\"], [\"The One with Barry and Mindy's Wedding\", \"02-24\"], [\"The One with the Princess Leia Fantasy\", \"03-01\"], [\"The One Where No One's Ready\", \"03-02\"], [\"The One with the Jam\", \"03-03\"], [\"The One with the Metaphorical Tunnel\", \"03-04\"], [\"The One with Frank Jr.\", \"03-05\"], [\"The One with the Flashback\", \"03-06\"], [\"The One with the Racecar Bed\", \"03-07\"], [\"The One with the Giant Poking Device\", \"03-08\"], [\"The One with the Football\", \"03-09\"], [\"The One Where Rachel Quits\", \"03-10\"], [\"The One Where Chandler Can't Remember Which Sister\", \"03-11\"], [\"The One with All the Jealousy\", \"03-12\"], [\"The One Where Monica and Richard Are Just Friends\", \"03-13\"], [\"The One with Phoebe's Ex-Partner\", \"03-14\"], [\"The One Where Ross and Rachel Take a Break\", \"03-15\"], [\"The One the Morning After\", \"03-16\"], [\"The One Without the Ski Trip\", \"03-17\"], [\"The One with the Hypnosis Tape\", \"03-18\"], [\"The One with the Tiny T-Shirt\", \"03-19\"], [\"The One with the Dollhouse\", \"03-20\"], [\"The One with a Chick and a Duck\", \"03-21\"], [\"The One with the Screamer\", \"03-22\"], [\"The One with Ross's Thing\", \"03-23\"], [\"The One with the Ultimate Fighting Champion\", \"03-24\"], [\"The One at the Beach\", \"03-25\"], [\"The One with the Jellyfish\", \"04-01\"], [\"The One with the Cat\", \"04-02\"], [\"The One with the Cuffs\", \"04-03\"], [\"The One with the Ballroom Dancing\", \"04-04\"], [\"The One with Joey's New Girlfriend\", \"04-05\"], [\"The One with the Dirty Girl\", \"04-06\"], [\"The One Where Chandler Crosses the Line\", \"04-07\"], [\"The One with Chandler in a Box\", \"04-08\"], [\"The One Where They're Going to Party!\", \"04-09\"], [\"The One with the Girl from Poughkeepsie\", \"04-10\"], [\"The One with Phoebe's Uterus\", \"04-11\"], [\"The One with the Embryos\", \"04-12\"], [\"The One with Rachel's Crush\", \"04-13\"], [\"The One with Joey's Dirty Day\", \"04-14\"], [\"The One with All the Rugby\", \"04-15\"], [\"The One with the Fake Party\", \"04-16\"], [\"The One with the Free Porn\", \"04-17\"], [\"The One with Rachel's New Dress\", \"04-18\"], [\"The One with All the Haste\", \"04-19\"], [\"The One with All the Wedding Dresses\", \"04-20\"], [\"The One with the Invitation\", \"04-21\"], [\"The One with the Worst Best Man Ever\", \"04-22\"], [\"The One with Ross's Wedding\", \"04-2324\"], [\"The One After Ross Says Rachel\", \"05-01\"], [\"The One with All the Kissing\", \"05-02\"], [\"The One Hundredth\", \"05-03\"], [\"The One Where Phoebe Hates PBS\", \"05-04\"], [\"The One with the Kips\", \"05-05\"], [\"The One with the Yeti\", \"05-06\"], [\"The One Where Ross Moves In\", \"05-07\"], [\"The One with All the Thanksgivings\", \"05-08\"], [\"The One with Ross's Sandwich\", \"05-09\"], [\"The One with the Inappropriate Sister\", \"05-10\"], [\"The One with All the Resolutions\", \"05-11\"], [\"The One with Chandler's Work Laugh\", \"05-12\"], [\"The One with Joey's Bag\", \"05-13\"], [\"The One Where Everybody Finds Out\", \"05-14\"], [\"The One with the Girl Who Hits Joey\", \"05-15\"], [\"The One with the Cop\", \"05-16\"], [\"The One with Rachel's Inadvertent Kiss\", \"05-17\"], [\"The One Where Rachel Smokes\", \"05-18\"], [\"The One Where Ross Can't Flirt\", \"05-19\"], [\"The One with the Ride Along\", \"05-20\"], [\"The One with the Ball\", \"05-21\"], [\"The One with Joey's Big Break\", \"05-22\"], [\"The One in Vegas\", \"05-2324\"], [\"The One After Vegas\", \"06-01\"], [\"The One Where Ross Hugs Rachel\", \"06-02\"], [\"The One with Ross's Denial\", \"06-03\"], [\"The One Where Joey Loses His Insurance\", \"06-04\"], [\"The One with Joey's Porsche\", \"06-05\"], [\"The One on the Last Night\", \"06-06\"], [\"The One Where Phoebe Runs\", \"06-07\"], [\"The One with Ross's Teeth\", \"06-08\"], [\"The One Where Ross Got High\", \"06-09\"], [\"The One with the Routine\", \"06-10\"], [\"The One with the Apothecary Table\", \"06-11\"], [\"The One with the Joke\", \"06-12\"], [\"The One with Rachel's Sister\", \"06-13\"], [\"The One Where Chandler Can't Cry\", \"06-14\"], [\"The One That Could Have Been\", \"06-1516\"], [\"The One with Unagi\", \"06-17\"], [\"The One Where Ross Dates a Student\", \"06-18\"], [\"The One with Joey's Fridge\", \"06-19\"], [\"The One with Mac and C.H.E.E.S.E.\", \"06-20\"], [\"The One Where Ross Meets Elizabeth's Dad\", \"06-21\"], [\"The One Where Paul's the Man\", \"06-22\"], [\"The One with the Ring\", \"06-23\"], [\"The One with the Proposal\", \"06-2425\"], [\"The One with Monica's Thunder\", \"07-01\"], [\"The One with Rachel's Book\", \"07-02\"], [\"The One with Phoebe's Cookies\", \"07-03\"], [\"The One with Rachel's Assistant\", \"07-04\"], [\"The One with the Engagement Picture\", \"07-05\"], [\"The One with the Nap Partners\", \"07-06\"], [\"The One with Ross's Library Book\", \"07-07\"], [\"The One Where Chandler Doesn't Like Dogs\", \"07-08\"], [\"The One with All the Candy\", \"07-09\"], [\"The One with the Holiday Armadillo\", \"07-10\"], [\"The One with All the Cheesecakes\", \"07-11\"], [\"The One Where They're Up All Night\", \"07-12\"], [\"The One Where Rosita Dies\", \"07-13\"], [\"The One Where They All Turn Thirty\", \"07-14\"], [\"The One with Joey's New Brain\", \"07-15\"], [\"Friends: The Stuff You've Never Seen\", \"10-100\"], [\"The One with the Truth About London\", \"07-16\"], [\"The One with the Cheap Wedding Dress\", \"07-17\"], [\"The One with Joey's Award\", \"07-18\"], [\"The One with Ross and Monica's Cousin\", \"07-19\"], [\"The One with Rachel's Big Kiss\", \"07-20\"], [\"The One with the Vows\", \"07-21\"], [\"The One with Chandler's Dad\", \"07-22\"], [\"The One with Monica and Chandler's Wedding\", \"07-2324\"], [\"The One After \\\"I Do\\\"\", \"08-01\"], [\"The One with the Red Sweater\", \"08-02\"], [\"The One Where Rachel Tells...\", \"08-03\"], [\"The One with the Videotape\", \"08-04\"], [\"The One with Rachel's Date\", \"08-05\"], [\"The One with the Halloween Party\", \"08-06\"], [\"The One with the Stain\", \"08-07\"], [\"The One with the Stripper\", \"08-08\"], [\"The One with the Rumor\", \"08-09\"], [\"The One with Monica's Boots\", \"08-10\"], [\"The One with Ross's Step Forward\", \"08-11\"], [\"The One Where Joey Dates Rachel\", \"08-12\"], [\"The One Where Chandler Takes a Bath\", \"08-13\"], [\"The One with the Secret Closet\", \"08-14\"], [\"The One with the Birthing Video\", \"08-15\"], [\"The One Where Joey Tells Rachel\", \"08-16\"], [\"The One with the Tea Leaves\", \"08-17\"], [\"The One in Massapequa\", \"08-18\"], [\"The One with Joey's Interview\", \"08-19\"], [\"The One with the Baby Shower\", \"08-20\"], [\"The One with the Cooking Class\", \"08-21\"], [\"The One Where Rachel Is Late\", \"08-22\"], [\"The One Where Rachel Has a Baby\", \"08-2324\"], [\"The One Where No One Proposes\", \"09-01\"], [\"The One Where Emma Cries\", \"09-02\"], [\"The One with the Pediatrician\", \"09-03\"], [\"The One with the Sharks\", \"09-04\"], [\"The One with Phoebe's Birthday Dinner\", \"09-05\"], [\"The One with the Male Nanny\", \"09-06\"], [\"The One with Ross's Inappropriate Song\", \"09-07\"], [\"The One with Rachel's Other Sister\", \"09-08\"], [\"The One with Rachel's Phone Number\", \"09-09\"], [\"The One with Christmas in Tulsa\", \"09-10\"], [\"The One Where Rachel Goes Back to Work\", \"09-11\"], [\"The One with Phoebe's Rats\", \"09-12\"], [\"The One Where Monica Sings\", \"09-13\"], [\"The One with the Blind Date\", \"09-14\"], [\"The One with the Mugging\", \"09-15\"], [\"The One with the Boob Job\", \"09-16\"], [\"The One with the Memorial Service\", \"09-17\"], [\"The One with the Lottery\", \"09-18\"], [\"The One with Rachel's Dream\", \"09-19\"], [\"The One with the Soap Opera Party\", \"09-20\"], [\"The One with the Fertility Test\", \"09-21\"], [\"The One with the Donor\", \"09-22\"], [\"The One in Barbados\", \"09-2324\"], [\"The One After Joey & Rachel Kiss\", \"10-01\"], [\"The One Where Ross Is Fine\", \"10-02\"], [\"The One with Ross's Tan\", \"10-03\"], [\"The One with the Cake\", \"10-04\"], [\"The One Where Rachel's Sister Baby-Sits\", \"10-05\"], [\"The One with Ross's Grant\", \"10-06\"], [\"The One with the Home Study\", \"10-07\"], [\"The One with the Late Thanksgiving\", \"10-08\"], [\"The One with the Birth Mother\", \"10-09\"], [\"The One Where Chandler Gets Caught\", \"10-10\"], [\"The One Where the Stripper Cries\", \"10-11\"], [\"The One with Phoebe's Wedding\", \"10-12\"], [\"The One Where Joey Speaks French\", \"10-13\"], [\"The One with Princess Consuela\", \"10-14\"], [\"The One Where Estelle Dies\", \"10-15\"], [\"The One with Rachel's Going Away Party\", \"10-16\"], [\"The One Before the Last One:\\nTen Years of Friends\", \"10-100\"], [\"The Last One\", \"10-1718\"]], \"hoverlabel\": {\"namelength\": 0}, \"hovertemplate\": \"Date=%{x}<br>Share=%{y}<br>Title=%{customdata[0]}<br>Season-Episode=%{customdata[1]}\", \"legendgroup\": \"\", \"line\": {\"color\": \"#F8766D\", \"dash\": \"solid\"}, \"mode\": \"lines\", \"name\": \"\", \"showlegend\": false, \"type\": \"scatter\", \"x\": [\"09/22/94\", \"09/29/94\", \"10/06/94\", \"10/13/94\", \"10/20/94\", \"10/27/94\", \"11/03/94\", \"11/10/94\", \"11/17/94\", \"12/15/94\", \"01/05/95\", \"01/12/95\", \"01/19/95\", \"02/09/95\", \"02/16/95\", \"02/23/95\", \"02/23/95\", \"03/02/95\", \"03/09/95\", \"04/06/95\", \"04/27/95\", \"05/04/95\", \"05/11/95\", \"05/18/95\", \"09/21/95\", \"09/28/95\", \"10/05/95\", \"10/12/95\", \"10/19/95\", \"11/02/95\", \"11/09/95\", \"11/16/95\", \"12/14/95\", \"01/04/96\", \"01/18/96\", \"01/28/96\", \"02/01/96\", \"02/08/96\", \"02/15/96\", \"02/22/96\", \"03/21/96\", \"03/28/96\", \"04/04/96\", \"04/25/96\", \"05/02/96\", \"05/09/96\", \"05/16/96\", \"09/19/96\", \"09/26/96\", \"10/03/96\", \"10/10/96\", \"10/17/96\", \"10/31/96\", \"11/07/96\", \"11/14/96\", \"11/21/96\", \"12/12/96\", \"01/09/97\", \"01/16/97\", \"01/30/97\", \"02/06/97\", \"02/13/97\", \"02/20/97\", \"03/06/97\", \"03/13/97\", \"03/27/97\", \"04/10/97\", \"04/17/97\", \"04/24/97\", \"05/01/97\", \"05/08/97\", \"05/15/97\", \"09/25/97\", \"10/02/97\", \"10/09/97\", \"10/16/97\", \"10/30/97\", \"11/06/97\", \"11/13/97\", \"11/20/97\", \"12/11/97\", \"12/18/97\", \"01/08/98\", \"01/15/98\", \"01/29/98\", \"02/05/98\", \"02/26/98\", \"03/19/98\", \"03/26/98\", \"04/02/98\", \"04/09/98\", \"04/16/98\", \"04/23/98\", \"04/30/98\", \"05/07/98\", \"09/24/98\", \"10/01/98\", \"10/08/98\", \"10/15/98\", \"10/29/98\", \"11/05/98\", \"11/12/98\", \"11/19/98\", \"12/10/98\", \"12/17/98\", \"01/07/99\", \"01/21/99\", \"02/04/99\", \"02/11/99\", \"02/18/99\", \"02/25/99\", \"03/18/99\", \"04/08/99\", \"04/22/99\", \"04/29/99\", \"05/06/99\", \"05/13/99\", \"05/20/99\", \"09/23/99\", \"09/30/99\", \"10/07/99\", \"10/14/99\", \"10/21/99\", \"11/04/99\", \"11/11/99\", \"11/18/99\", \"11/25/99\", \"12/16/99\", \"01/06/00\", \"01/13/00\", \"02/03/00\", \"02/10/00\", \"02/17/00\", \"02/24/00\", \"03/09/00\", \"03/23/00\", \"04/13/00\", \"04/27/00\", \"05/04/00\", \"05/11/00\", \"05/18/00\", \"10/12/00\", \"10/12/00\", \"10/19/00\", \"10/26/00\", \"11/02/00\", \"11/09/00\", \"11/16/00\", \"11/23/00\", \"12/07/00\", \"12/14/00\", \"01/04/01\", \"01/11/01\", \"02/01/01\", \"02/08/01\", \"02/15/01\", \"02/15/01\", \"02/22/01\", \"03/15/01\", \"03/29/01\", \"04/19/01\", \"04/26/01\", \"05/03/01\", \"05/10/01\", \"05/17/01\", \"09/27/01\", \"10/04/01\", \"10/11/01\", \"10/18/01\", \"10/25/01\", \"11/01/01\", \"11/08/01\", \"11/15/01\", \"11/22/01\", \"12/06/01\", \"12/13/01\", \"01/10/02\", \"01/17/02\", \"01/31/02\", \"02/07/02\", \"02/28/02\", \"03/07/02\", \"03/28/02\", \"04/04/02\", \"04/25/02\", \"05/02/02\", \"05/09/02\", \"05/16/02\", \"09/26/02\", \"10/03/02\", \"10/10/02\", \"10/17/02\", \"10/31/02\", \"11/07/02\", \"11/14/02\", \"11/21/02\", \"12/05/02\", \"12/12/02\", \"01/09/03\", \"01/16/03\", \"01/30/03\", \"02/06/03\", \"02/13/03\", \"02/20/03\", \"03/13/03\", \"04/03/03\", \"04/17/03\", \"04/24/03\", \"05/01/03\", \"05/08/03\", \"05/15/03\", \"09/25/03\", \"10/02/03\", \"10/09/03\", \"10/23/03\", \"10/30/03\", \"11/06/03\", \"11/13/03\", \"11/20/03\", \"01/08/04\", \"01/15/04\", \"02/05/04\", \"02/12/04\", \"02/19/04\", \"02/26/04\", \"04/22/04\", \"04/29/04\", \"05/06/04\", \"05/06/04\"], \"xaxis\": \"x\", \"y\": [23.0, 22.0, 22.0, 22.0, 20.0, 20.0, 24.0, 22.0, 24.0, 22.0, 27.0, 25.0, 26.0, 24.0, 25.0, 27.0, 31.0, 31.0, 31.0, 32.0, 29.0, 31.0, 30.0, 32.0, 33.0, 31.0, 31.0, 31.0, 30.0, 30.0, 31.0, 33.0, 30.0, 31.0, 31.0, 46.0, 32.0, 33.0, 33.0, 31.0, 31.0, 32.0, 31.0, 30.0, 33.0, 33.0, 34.0, 31.0, 31.0, 30.0, 30.0, 26.0, 28.0, 29.0, 30.0, 30.0, 27.0, 29.0, 29.0, 29.0, 30.0, 29.0, 29.0, 29.0, 30.0, 28.0, 28.0, 28.0, 27.0, 29.0, 27.0, 29.0, 32.0, 30.0, 28.0, 28.0, 26.0, 28.0, 29.0, 29.0, 26.0, 26.0, 24.0, 27.0, 27.0, 26.0, 26.0, 26.0, 27.0, 24.0, 27.0, 26.0, 27.0, 27.0, 35.0, 33.0, 29.0, 29.0, 27.0, 27.0, 26.0, 26.0, 26.0, 26.0, 27.0, 27.0, 26.0, 26.0, 28.0, 29.0, 28.0, 27.0, 26.0, 25.0, 24.0, 25.0, 26.0, 29.0, 30.0, 27.0, 25.0, 23.0, 25.0, 24.0, 24.0, 24.0, 21.0, 25.0, 23.0, 23.0, 24.0, 24.0, 26.0, 23.0, 22.0, 24.0, 22.0, 25.0, 24.0, 25.0, 32.0, 27.0, 28.0, 25.0, 24.0, 24.0, 22.0, 25.0, 19.0, 22.0, 24.0, 24.0, 23.0, 22.0, 21.0, 22.0, 21.0, 21.0, 23.0, 19.0, 19.0, 19.0, 17.0, 21.0, 31.0, 31.0, 31.0, 26.0, 25.0, 25.0, 25.0, 23.0, 25.0, 25.0, 23.0, 25.0, 24.0, 27.0, 28.0, 28.0, 27.0, 25.0, 23.0, 24.0, 23.0, 25.0, 26.0, 34.0, 31.0, 28.0, 26.0, 25.0, 25.0, 26.0, 25.0, 26.0, 24.0, 23.0, 24.0, 23.0, 25.0, 22.0, 21.0, 19.0, 21.0, 21.0, 21.0, 23.0, 21.0, 21.0, 26.0, 25.0, 24.0, 22.0, 20.0, 21.0, 21.0, 21.0, 21.0, 24.0, 26.0, 24.0, 25.0, 24.0, 22.0, 24.0, 25.0, 35.0, 43.0], \"yaxis\": \"y\"}],\n",
              "                        {\"legend\": {\"tracegroupgap\": 0}, \"template\": {\"data\": {\"bar\": [{\"error_x\": {\"color\": \"rgb(51,51,51)\"}, \"error_y\": {\"color\": \"rgb(51,51,51)\"}, \"marker\": {\"line\": {\"color\": \"rgb(237,237,237)\", \"width\": 0.5}}, \"type\": \"bar\"}], \"barpolar\": [{\"marker\": {\"line\": {\"color\": \"rgb(237,237,237)\", \"width\": 0.5}}, \"type\": \"barpolar\"}], \"carpet\": [{\"aaxis\": {\"endlinecolor\": \"rgb(51,51,51)\", \"gridcolor\": \"white\", \"linecolor\": \"white\", \"minorgridcolor\": \"white\", \"startlinecolor\": \"rgb(51,51,51)\"}, \"baxis\": {\"endlinecolor\": \"rgb(51,51,51)\", \"gridcolor\": \"white\", \"linecolor\": \"white\", \"minorgridcolor\": \"white\", \"startlinecolor\": \"rgb(51,51,51)\"}, \"type\": \"carpet\"}], \"choropleth\": [{\"colorbar\": {\"outlinewidth\": 0, \"tickcolor\": \"rgb(237,237,237)\", \"ticklen\": 6, \"ticks\": \"inside\"}, \"type\": \"choropleth\"}], \"contour\": [{\"colorbar\": {\"outlinewidth\": 0, \"tickcolor\": \"rgb(237,237,237)\", \"ticklen\": 6, \"ticks\": \"inside\"}, \"colorscale\": [[0, \"rgb(20,44,66)\"], [1, \"rgb(90,179,244)\"]], \"type\": \"contour\"}], \"contourcarpet\": [{\"colorbar\": {\"outlinewidth\": 0, \"tickcolor\": \"rgb(237,237,237)\", \"ticklen\": 6, \"ticks\": \"inside\"}, \"type\": \"contourcarpet\"}], \"heatmap\": [{\"colorbar\": {\"outlinewidth\": 0, \"tickcolor\": \"rgb(237,237,237)\", \"ticklen\": 6, \"ticks\": \"inside\"}, \"colorscale\": [[0, \"rgb(20,44,66)\"], [1, \"rgb(90,179,244)\"]], \"type\": \"heatmap\"}], \"heatmapgl\": [{\"colorbar\": {\"outlinewidth\": 0, \"tickcolor\": \"rgb(237,237,237)\", \"ticklen\": 6, \"ticks\": \"inside\"}, \"colorscale\": [[0, \"rgb(20,44,66)\"], [1, \"rgb(90,179,244)\"]], \"type\": \"heatmapgl\"}], \"histogram\": [{\"marker\": {\"colorbar\": {\"outlinewidth\": 0, \"tickcolor\": \"rgb(237,237,237)\", \"ticklen\": 6, \"ticks\": \"inside\"}}, \"type\": \"histogram\"}], \"histogram2d\": [{\"colorbar\": {\"outlinewidth\": 0, \"tickcolor\": \"rgb(237,237,237)\", \"ticklen\": 6, \"ticks\": \"inside\"}, \"colorscale\": [[0, \"rgb(20,44,66)\"], [1, \"rgb(90,179,244)\"]], \"type\": \"histogram2d\"}], \"histogram2dcontour\": [{\"colorbar\": {\"outlinewidth\": 0, \"tickcolor\": \"rgb(237,237,237)\", \"ticklen\": 6, \"ticks\": \"inside\"}, \"colorscale\": [[0, \"rgb(20,44,66)\"], [1, \"rgb(90,179,244)\"]], \"type\": \"histogram2dcontour\"}], \"mesh3d\": [{\"colorbar\": {\"outlinewidth\": 0, \"tickcolor\": \"rgb(237,237,237)\", \"ticklen\": 6, \"ticks\": \"inside\"}, \"type\": \"mesh3d\"}], \"parcoords\": [{\"line\": {\"colorbar\": {\"outlinewidth\": 0, \"tickcolor\": \"rgb(237,237,237)\", \"ticklen\": 6, \"ticks\": \"inside\"}}, \"type\": \"parcoords\"}], \"pie\": [{\"automargin\": true, \"type\": \"pie\"}], \"scatter\": [{\"marker\": {\"colorbar\": {\"outlinewidth\": 0, \"tickcolor\": \"rgb(237,237,237)\", \"ticklen\": 6, \"ticks\": \"inside\"}}, \"type\": \"scatter\"}], \"scatter3d\": [{\"line\": {\"colorbar\": {\"outlinewidth\": 0, \"tickcolor\": \"rgb(237,237,237)\", \"ticklen\": 6, \"ticks\": \"inside\"}}, \"marker\": {\"colorbar\": {\"outlinewidth\": 0, \"tickcolor\": \"rgb(237,237,237)\", \"ticklen\": 6, \"ticks\": \"inside\"}}, \"type\": \"scatter3d\"}], \"scattercarpet\": [{\"marker\": {\"colorbar\": {\"outlinewidth\": 0, \"tickcolor\": \"rgb(237,237,237)\", \"ticklen\": 6, \"ticks\": \"inside\"}}, \"type\": \"scattercarpet\"}], \"scattergeo\": [{\"marker\": {\"colorbar\": {\"outlinewidth\": 0, \"tickcolor\": \"rgb(237,237,237)\", \"ticklen\": 6, \"ticks\": \"inside\"}}, \"type\": \"scattergeo\"}], \"scattergl\": [{\"marker\": {\"colorbar\": {\"outlinewidth\": 0, \"tickcolor\": \"rgb(237,237,237)\", \"ticklen\": 6, \"ticks\": \"inside\"}}, \"type\": \"scattergl\"}], \"scattermapbox\": [{\"marker\": {\"colorbar\": {\"outlinewidth\": 0, \"tickcolor\": \"rgb(237,237,237)\", \"ticklen\": 6, \"ticks\": \"inside\"}}, \"type\": \"scattermapbox\"}], \"scatterpolar\": [{\"marker\": {\"colorbar\": {\"outlinewidth\": 0, \"tickcolor\": \"rgb(237,237,237)\", \"ticklen\": 6, \"ticks\": \"inside\"}}, \"type\": \"scatterpolar\"}], \"scatterpolargl\": [{\"marker\": {\"colorbar\": {\"outlinewidth\": 0, \"tickcolor\": \"rgb(237,237,237)\", \"ticklen\": 6, \"ticks\": \"inside\"}}, \"type\": \"scatterpolargl\"}], \"scatterternary\": [{\"marker\": {\"colorbar\": {\"outlinewidth\": 0, \"tickcolor\": \"rgb(237,237,237)\", \"ticklen\": 6, \"ticks\": \"inside\"}}, \"type\": \"scatterternary\"}], \"surface\": [{\"colorbar\": {\"outlinewidth\": 0, \"tickcolor\": \"rgb(237,237,237)\", \"ticklen\": 6, \"ticks\": \"inside\"}, \"colorscale\": [[0, \"rgb(20,44,66)\"], [1, \"rgb(90,179,244)\"]], \"type\": \"surface\"}], \"table\": [{\"cells\": {\"fill\": {\"color\": \"rgb(237,237,237)\"}, \"line\": {\"color\": \"white\"}}, \"header\": {\"fill\": {\"color\": \"rgb(217,217,217)\"}, \"line\": {\"color\": \"white\"}}, \"type\": \"table\"}]}, \"layout\": {\"annotationdefaults\": {\"arrowhead\": 0, \"arrowwidth\": 1}, \"coloraxis\": {\"colorbar\": {\"outlinewidth\": 0, \"tickcolor\": \"rgb(237,237,237)\", \"ticklen\": 6, \"ticks\": \"inside\"}}, \"colorscale\": {\"sequential\": [[0, \"rgb(20,44,66)\"], [1, \"rgb(90,179,244)\"]], \"sequentialminus\": [[0, \"rgb(20,44,66)\"], [1, \"rgb(90,179,244)\"]]}, \"colorway\": [\"#F8766D\", \"#A3A500\", \"#00BF7D\", \"#00B0F6\", \"#E76BF3\"], \"font\": {\"color\": \"rgb(51,51,51)\"}, \"geo\": {\"bgcolor\": \"white\", \"lakecolor\": \"white\", \"landcolor\": \"rgb(237,237,237)\", \"showlakes\": true, \"showland\": true, \"subunitcolor\": \"white\"}, \"hoverlabel\": {\"align\": \"left\"}, \"hovermode\": \"closest\", \"paper_bgcolor\": \"white\", \"plot_bgcolor\": \"rgb(237,237,237)\", \"polar\": {\"angularaxis\": {\"gridcolor\": \"white\", \"linecolor\": \"white\", \"showgrid\": true, \"tickcolor\": \"rgb(51,51,51)\", \"ticks\": \"outside\"}, \"bgcolor\": \"rgb(237,237,237)\", \"radialaxis\": {\"gridcolor\": \"white\", \"linecolor\": \"white\", \"showgrid\": true, \"tickcolor\": \"rgb(51,51,51)\", \"ticks\": \"outside\"}}, \"scene\": {\"xaxis\": {\"backgroundcolor\": \"rgb(237,237,237)\", \"gridcolor\": \"white\", \"gridwidth\": 2, \"linecolor\": \"white\", \"showbackground\": true, \"showgrid\": true, \"tickcolor\": \"rgb(51,51,51)\", \"ticks\": \"outside\", \"zerolinecolor\": \"white\"}, \"yaxis\": {\"backgroundcolor\": \"rgb(237,237,237)\", \"gridcolor\": \"white\", \"gridwidth\": 2, \"linecolor\": \"white\", \"showbackground\": true, \"showgrid\": true, \"tickcolor\": \"rgb(51,51,51)\", \"ticks\": \"outside\", \"zerolinecolor\": \"white\"}, \"zaxis\": {\"backgroundcolor\": \"rgb(237,237,237)\", \"gridcolor\": \"white\", \"gridwidth\": 2, \"linecolor\": \"white\", \"showbackground\": true, \"showgrid\": true, \"tickcolor\": \"rgb(51,51,51)\", \"ticks\": \"outside\", \"zerolinecolor\": \"white\"}}, \"shapedefaults\": {\"fillcolor\": \"black\", \"line\": {\"width\": 0}, \"opacity\": 0.3}, \"ternary\": {\"aaxis\": {\"gridcolor\": \"white\", \"linecolor\": \"white\", \"showgrid\": true, \"tickcolor\": \"rgb(51,51,51)\", \"ticks\": \"outside\"}, \"baxis\": {\"gridcolor\": \"white\", \"linecolor\": \"white\", \"showgrid\": true, \"tickcolor\": \"rgb(51,51,51)\", \"ticks\": \"outside\"}, \"bgcolor\": \"rgb(237,237,237)\", \"caxis\": {\"gridcolor\": \"white\", \"linecolor\": \"white\", \"showgrid\": true, \"tickcolor\": \"rgb(51,51,51)\", \"ticks\": \"outside\"}}, \"xaxis\": {\"automargin\": true, \"gridcolor\": \"white\", \"linecolor\": \"white\", \"showgrid\": true, \"tickcolor\": \"rgb(51,51,51)\", \"ticks\": \"outside\", \"title\": {\"standoff\": 15}, \"zerolinecolor\": \"white\"}, \"yaxis\": {\"automargin\": true, \"gridcolor\": \"white\", \"linecolor\": \"white\", \"showgrid\": true, \"tickcolor\": \"rgb(51,51,51)\", \"ticks\": \"outside\", \"title\": {\"standoff\": 15}, \"zerolinecolor\": \"white\"}}}, \"title\": {\"text\": \"Share trend over years\"}, \"xaxis\": {\"anchor\": \"y\", \"domain\": [0.0, 1.0], \"title\": {\"text\": \"Date\"}}, \"yaxis\": {\"anchor\": \"x\", \"domain\": [0.0, 1.0], \"title\": {\"text\": \"Share\"}}},\n",
              "                        {\"responsive\": true}\n",
              "                    ).then(function(){\n",
              "                            \n",
              "var gd = document.getElementById('af74eb56-f073-46ca-b266-5c35ff040056');\n",
              "var x = new MutationObserver(function (mutations, observer) {{\n",
              "        var display = window.getComputedStyle(gd).display;\n",
              "        if (!display || display === 'none') {{\n",
              "            console.log([gd, 'removed!']);\n",
              "            Plotly.purge(gd);\n",
              "            observer.disconnect();\n",
              "        }}\n",
              "}});\n",
              "\n",
              "// Listen for the removal of the full notebook cells\n",
              "var notebookContainer = gd.closest('#notebook-container');\n",
              "if (notebookContainer) {{\n",
              "    x.observe(notebookContainer, {childList: true});\n",
              "}}\n",
              "\n",
              "// Listen for the clearing of the current output cell\n",
              "var outputEl = gd.closest('.output');\n",
              "if (outputEl) {{\n",
              "    x.observe(outputEl, {childList: true});\n",
              "}}\n",
              "\n",
              "                        })\n",
              "                };\n",
              "                \n",
              "            </script>\n",
              "        </div>\n",
              "</body>\n",
              "</html>"
            ]
          },
          "metadata": {
            "tags": []
          }
        }
      ]
    },
    {
      "cell_type": "code",
      "metadata": {
        "colab": {
          "base_uri": "https://localhost:8080/",
          "height": 542
        },
        "id": "vJzu4MjGLRt1",
        "outputId": "dba137ff-8d4e-4d35-8259-b6a9d716e5cc"
      },
      "source": [
        "epdf = df.copy().dropna().reset_index(drop=True)\n",
        "px.scatter(epdf.dropna(), x='Episode', y='Duration',size=\"Duration\", color='Duration',\n",
        "           color_continuous_scale=px.colors.sequential.RdBu, hover_data=['Title', 'Season-Episode'])"
      ],
      "execution_count": 65,
      "outputs": [
        {
          "output_type": "display_data",
          "data": {
            "text/html": [
              "<html>\n",
              "<head><meta charset=\"utf-8\" /></head>\n",
              "<body>\n",
              "    <div>\n",
              "            <script src=\"https://cdnjs.cloudflare.com/ajax/libs/mathjax/2.7.5/MathJax.js?config=TeX-AMS-MML_SVG\"></script><script type=\"text/javascript\">if (window.MathJax) {MathJax.Hub.Config({SVG: {font: \"STIX-Web\"}});}</script>\n",
              "                <script type=\"text/javascript\">window.PlotlyConfig = {MathJaxConfig: 'local'};</script>\n",
              "        <script src=\"https://cdn.plot.ly/plotly-latest.min.js\"></script>    \n",
              "            <div id=\"eb2ab0b7-f698-4f0f-a0db-210f9269a5f6\" class=\"plotly-graph-div\" style=\"height:525px; width:100%;\"></div>\n",
              "            <script type=\"text/javascript\">\n",
              "                \n",
              "                    window.PLOTLYENV=window.PLOTLYENV || {};\n",
              "                    \n",
              "                if (document.getElementById(\"eb2ab0b7-f698-4f0f-a0db-210f9269a5f6\")) {\n",
              "                    Plotly.newPlot(\n",
              "                        'eb2ab0b7-f698-4f0f-a0db-210f9269a5f6',\n",
              "                        [{\"customdata\": [[\"The Pilot\", \"01-01\"], [\"The One with the Sonogram at the End\", \"01-02\"], [\"The One with the Thumb\", \"01-03\"], [\"The One with George Stephanopoulos\", \"01-04\"], [\"The One with the East German Laundry Detergent\", \"01-05\"], [\"The One with the Butt\", \"01-06\"], [\"The One with the Blackout\", \"01-07\"], [\"The One Where Nana Dies Twice\", \"01-08\"], [\"The One Where Underdog Gets Away\", \"01-09\"], [\"The One with the Monkey\", \"01-10\"], [\"The One with Mrs. Bing\", \"01-11\"], [\"The One with the Dozen Lasagnas\", \"01-12\"], [\"The One with the Boobies\", \"01-13\"], [\"The One with the Candy Hearts\", \"01-14\"], [\"The One with the Stoned Guy\", \"01-15\"], [\"The One with Two Parts, Part I\", \"01-16\"], [\"The One with Two Parts, Part II\", \"01-17\"], [\"The One with All the Poker\", \"01-18\"], [\"The One Where the Monkey Gets Away\", \"01-19\"], [\"The One with the Evil Orthodontist\", \"01-20\"], [\"The One with Fake Monica\", \"01-21\"], [\"The One with the Ick Factor\", \"01-22\"], [\"The One with the Birth\", \"01-23\"], [\"The One Where Rachel Finds Out\", \"01-24\"], [\"The One with Ross's New Girlfriend\", \"02-01\"], [\"The One with the Breast Milk\", \"02-02\"], [\"The One Where Heckles Dies\", \"02-03\"], [\"The One with Phoebe's Husband\", \"02-04\"], [\"The One with Five Steaks and an Eggplant\", \"02-05\"], [\"The One with the Baby on the Bus\", \"02-06\"], [\"The One Where Ross Finds Out\", \"02-07\"], [\"The One with the List\", \"02-08\"], [\"The One with Phoebe's Dad\", \"02-09\"], [\"The One with Russ\", \"02-10\"], [\"The One with the Lesbian Wedding\", \"02-11\"], [\"The One After the Super Bowl\", \"02-1213\"], [\"The One with the Prom Video\", \"02-14\"], [\"The One Where Ross and Rachel... You Know\", \"02-15\"], [\"The One Where Joey Moves Out\", \"02-16\"], [\"The One Where Eddie Moves In\", \"02-17\"], [\"The One Where Dr. Ramoray Dies\", \"02-18\"], [\"The One Where Eddie Won't Go\", \"02-19\"], [\"The One Where Old Yeller Dies\", \"02-20\"], [\"The One with the Bullies\", \"02-21\"], [\"The One with Two Parties\", \"02-22\"], [\"The One with the Chicken Pox\", \"02-23\"], [\"The One with Barry and Mindy's Wedding\", \"02-24\"], [\"The One with the Princess Leia Fantasy\", \"03-01\"], [\"The One Where No One's Ready\", \"03-02\"], [\"The One with the Jam\", \"03-03\"], [\"The One with the Metaphorical Tunnel\", \"03-04\"], [\"The One with Frank Jr.\", \"03-05\"], [\"The One with the Flashback\", \"03-06\"], [\"The One with the Racecar Bed\", \"03-07\"], [\"The One with the Giant Poking Device\", \"03-08\"], [\"The One with the Football\", \"03-09\"], [\"The One Where Rachel Quits\", \"03-10\"], [\"The One Where Chandler Can't Remember Which Sister\", \"03-11\"], [\"The One with All the Jealousy\", \"03-12\"], [\"The One Where Monica and Richard Are Just Friends\", \"03-13\"], [\"The One with Phoebe's Ex-Partner\", \"03-14\"], [\"The One Where Ross and Rachel Take a Break\", \"03-15\"], [\"The One the Morning After\", \"03-16\"], [\"The One Without the Ski Trip\", \"03-17\"], [\"The One with the Hypnosis Tape\", \"03-18\"], [\"The One with the Tiny T-Shirt\", \"03-19\"], [\"The One with the Dollhouse\", \"03-20\"], [\"The One with a Chick and a Duck\", \"03-21\"], [\"The One with the Screamer\", \"03-22\"], [\"The One with Ross's Thing\", \"03-23\"], [\"The One with the Ultimate Fighting Champion\", \"03-24\"], [\"The One at the Beach\", \"03-25\"], [\"The One with the Jellyfish\", \"04-01\"], [\"The One with the Cat\", \"04-02\"], [\"The One with the Cuffs\", \"04-03\"], [\"The One with the Ballroom Dancing\", \"04-04\"], [\"The One with Joey's New Girlfriend\", \"04-05\"], [\"The One with the Dirty Girl\", \"04-06\"], [\"The One Where Chandler Crosses the Line\", \"04-07\"], [\"The One with Chandler in a Box\", \"04-08\"], [\"The One Where They're Going to Party!\", \"04-09\"], [\"The One with the Girl from Poughkeepsie\", \"04-10\"], [\"The One with Phoebe's Uterus\", \"04-11\"], [\"The One with the Embryos\", \"04-12\"], [\"The One with Rachel's Crush\", \"04-13\"], [\"The One with Joey's Dirty Day\", \"04-14\"], [\"The One with All the Rugby\", \"04-15\"], [\"The One with the Fake Party\", \"04-16\"], [\"The One with the Free Porn\", \"04-17\"], [\"The One with Rachel's New Dress\", \"04-18\"], [\"The One with All the Haste\", \"04-19\"], [\"The One with All the Wedding Dresses\", \"04-20\"], [\"The One with the Invitation\", \"04-21\"], [\"The One with the Worst Best Man Ever\", \"04-22\"], [\"The One with Ross's Wedding\", \"04-2324\"], [\"The One After Ross Says Rachel\", \"05-01\"], [\"The One with All the Kissing\", \"05-02\"], [\"The One Hundredth\", \"05-03\"], [\"The One Where Phoebe Hates PBS\", \"05-04\"], [\"The One with the Kips\", \"05-05\"], [\"The One with the Yeti\", \"05-06\"], [\"The One Where Ross Moves In\", \"05-07\"], [\"The One with All the Thanksgivings\", \"05-08\"], [\"The One with Ross's Sandwich\", \"05-09\"], [\"The One with the Inappropriate Sister\", \"05-10\"], [\"The One with All the Resolutions\", \"05-11\"], [\"The One with Chandler's Work Laugh\", \"05-12\"], [\"The One with Joey's Bag\", \"05-13\"], [\"The One Where Everybody Finds Out\", \"05-14\"], [\"The One with the Girl Who Hits Joey\", \"05-15\"], [\"The One with the Cop\", \"05-16\"], [\"The One with Rachel's Inadvertent Kiss\", \"05-17\"], [\"The One Where Rachel Smokes\", \"05-18\"], [\"The One Where Ross Can't Flirt\", \"05-19\"], [\"The One with the Ride Along\", \"05-20\"], [\"The One with the Ball\", \"05-21\"], [\"The One with Joey's Big Break\", \"05-22\"], [\"The One in Vegas\", \"05-2324\"], [\"The One After Vegas\", \"06-01\"], [\"The One Where Ross Hugs Rachel\", \"06-02\"], [\"The One with Ross's Denial\", \"06-03\"], [\"The One Where Joey Loses His Insurance\", \"06-04\"], [\"The One with Joey's Porsche\", \"06-05\"], [\"The One on the Last Night\", \"06-06\"], [\"The One Where Phoebe Runs\", \"06-07\"], [\"The One with Ross's Teeth\", \"06-08\"], [\"The One Where Ross Got High\", \"06-09\"], [\"The One with the Routine\", \"06-10\"], [\"The One with the Apothecary Table\", \"06-11\"], [\"The One with the Joke\", \"06-12\"], [\"The One with Rachel's Sister\", \"06-13\"], [\"The One Where Chandler Can't Cry\", \"06-14\"], [\"The One That Could Have Been\", \"06-1516\"], [\"The One with Unagi\", \"06-17\"], [\"The One Where Ross Dates a Student\", \"06-18\"], [\"The One with Joey's Fridge\", \"06-19\"], [\"The One with Mac and C.H.E.E.S.E.\", \"06-20\"], [\"The One Where Ross Meets Elizabeth's Dad\", \"06-21\"], [\"The One Where Paul's the Man\", \"06-22\"], [\"The One with the Ring\", \"06-23\"], [\"The One with the Proposal\", \"06-2425\"], [\"The One with Monica's Thunder\", \"07-01\"], [\"The One with Rachel's Book\", \"07-02\"], [\"The One with Phoebe's Cookies\", \"07-03\"], [\"The One with Rachel's Assistant\", \"07-04\"], [\"The One with the Engagement Picture\", \"07-05\"], [\"The One with the Nap Partners\", \"07-06\"], [\"The One with Ross's Library Book\", \"07-07\"], [\"The One Where Chandler Doesn't Like Dogs\", \"07-08\"], [\"The One with All the Candy\", \"07-09\"], [\"The One with the Holiday Armadillo\", \"07-10\"], [\"The One with All the Cheesecakes\", \"07-11\"], [\"The One Where They're Up All Night\", \"07-12\"], [\"The One Where Rosita Dies\", \"07-13\"], [\"The One Where They All Turn Thirty\", \"07-14\"], [\"The One with Joey's New Brain\", \"07-15\"], [\"The One with the Truth About London\", \"07-16\"], [\"The One with the Cheap Wedding Dress\", \"07-17\"], [\"The One with Joey's Award\", \"07-18\"], [\"The One with Ross and Monica's Cousin\", \"07-19\"], [\"The One with Rachel's Big Kiss\", \"07-20\"], [\"The One with the Vows\", \"07-21\"], [\"The One with Chandler's Dad\", \"07-22\"], [\"The One with Monica and Chandler's Wedding\", \"07-2324\"], [\"The One After \\\"I Do\\\"\", \"08-01\"], [\"The One with the Red Sweater\", \"08-02\"], [\"The One Where Rachel Tells...\", \"08-03\"], [\"The One with the Videotape\", \"08-04\"], [\"The One with Rachel's Date\", \"08-05\"], [\"The One with the Halloween Party\", \"08-06\"], [\"The One with the Stain\", \"08-07\"], [\"The One with the Stripper\", \"08-08\"], [\"The One with the Rumor\", \"08-09\"], [\"The One with Monica's Boots\", \"08-10\"], [\"The One with Ross's Step Forward\", \"08-11\"], [\"The One Where Joey Dates Rachel\", \"08-12\"], [\"The One Where Chandler Takes a Bath\", \"08-13\"], [\"The One with the Secret Closet\", \"08-14\"], [\"The One with the Birthing Video\", \"08-15\"], [\"The One Where Joey Tells Rachel\", \"08-16\"], [\"The One with the Tea Leaves\", \"08-17\"], [\"The One in Massapequa\", \"08-18\"], [\"The One with Joey's Interview\", \"08-19\"], [\"The One with the Baby Shower\", \"08-20\"], [\"The One with the Cooking Class\", \"08-21\"], [\"The One Where Rachel Is Late\", \"08-22\"], [\"The One Where Rachel Has a Baby\", \"08-2324\"], [\"The One Where No One Proposes\", \"09-01\"], [\"The One Where Emma Cries\", \"09-02\"], [\"The One with the Pediatrician\", \"09-03\"], [\"The One with the Sharks\", \"09-04\"], [\"The One with Phoebe's Birthday Dinner\", \"09-05\"], [\"The One with the Male Nanny\", \"09-06\"], [\"The One with Ross's Inappropriate Song\", \"09-07\"], [\"The One with Rachel's Other Sister\", \"09-08\"], [\"The One with Rachel's Phone Number\", \"09-09\"], [\"The One with Christmas in Tulsa\", \"09-10\"], [\"The One Where Rachel Goes Back to Work\", \"09-11\"], [\"The One with Phoebe's Rats\", \"09-12\"], [\"The One Where Monica Sings\", \"09-13\"], [\"The One with the Blind Date\", \"09-14\"], [\"The One with the Mugging\", \"09-15\"], [\"The One with the Boob Job\", \"09-16\"], [\"The One with the Memorial Service\", \"09-17\"], [\"The One with the Lottery\", \"09-18\"], [\"The One with Rachel's Dream\", \"09-19\"], [\"The One with the Soap Opera Party\", \"09-20\"], [\"The One with the Fertility Test\", \"09-21\"], [\"The One with the Donor\", \"09-22\"], [\"The One in Barbados\", \"09-2324\"], [\"The One After Joey & Rachel Kiss\", \"10-01\"], [\"The One Where Ross Is Fine\", \"10-02\"], [\"The One with Ross's Tan\", \"10-03\"], [\"The One with the Cake\", \"10-04\"], [\"The One Where Rachel's Sister Baby-Sits\", \"10-05\"], [\"The One with Ross's Grant\", \"10-06\"], [\"The One with the Home Study\", \"10-07\"], [\"The One with the Late Thanksgiving\", \"10-08\"], [\"The One with the Birth Mother\", \"10-09\"], [\"The One Where Chandler Gets Caught\", \"10-10\"], [\"The One Where the Stripper Cries\", \"10-11\"], [\"The One with Phoebe's Wedding\", \"10-12\"], [\"The One Where Joey Speaks French\", \"10-13\"], [\"The One with Princess Consuela\", \"10-14\"], [\"The One Where Estelle Dies\", \"10-15\"], [\"The One with Rachel's Going Away Party\", \"10-16\"], [\"The Last One\", \"10-1718\"]], \"hoverlabel\": {\"namelength\": 0}, \"hovertemplate\": \"Episode=%{x}<br>Duration=%{marker.color}<br>Title=%{customdata[0]}<br>Season-Episode=%{customdata[1]}\", \"legendgroup\": \"\", \"marker\": {\"color\": [22.0, 22.0, 22.0, 22.0, 22.0, 22.0, 22.0, 22.0, 22.0, 22.0, 22.0, 22.0, 22.0, 22.0, 22.0, 22.0, 22.0, 22.0, 22.0, 22.0, 22.0, 22.0, 22.0, 22.0, 22.0, 22.0, 22.0, 22.0, 22.0, 22.0, 22.0, 22.0, 22.0, 22.0, 22.0, 44.0, 22.0, 22.0, 22.0, 22.0, 22.0, 22.0, 22.0, 22.0, 22.0, 22.0, 22.0, 22.0, 22.0, 22.0, 22.0, 22.0, 22.0, 22.0, 22.0, 22.0, 22.0, 22.0, 22.0, 22.0, 22.0, 22.0, 22.0, 22.0, 22.0, 22.0, 22.0, 22.0, 22.0, 22.0, 22.0, 22.0, 22.0, 22.0, 22.0, 22.0, 22.0, 22.0, 22.0, 22.0, 22.0, 22.0, 22.0, 22.0, 22.0, 22.0, 22.0, 22.0, 22.0, 22.0, 22.0, 22.0, 22.0, 22.0, 60.0, 22.0, 22.0, 22.0, 22.0, 22.0, 22.0, 22.0, 22.0, 22.0, 22.0, 22.0, 22.0, 22.0, 22.0, 22.0, 22.0, 22.0, 22.0, 22.0, 22.0, 22.0, 22.0, 44.0, 22.0, 22.0, 22.0, 22.0, 22.0, 22.0, 22.0, 22.0, 22.0, 22.0, 22.0, 22.0, 22.0, 22.0, 60.0, 22.0, 22.0, 22.0, 22.0, 22.0, 22.0, 22.0, 60.0, 22.0, 22.0, 22.0, 22.0, 22.0, 22.0, 22.0, 22.0, 22.0, 22.0, 22.0, 22.0, 22.0, 22.0, 22.0, 22.0, 22.0, 22.0, 22.0, 22.0, 22.0, 22.0, 44.0, 22.0, 22.0, 22.0, 22.0, 22.0, 22.0, 22.0, 22.0, 22.0, 22.0, 22.0, 22.0, 22.0, 22.0, 22.0, 22.0, 22.0, 22.0, 22.0, 22.0, 22.0, 22.0, 44.0, 22.0, 22.0, 22.0, 22.0, 22.0, 22.0, 22.0, 22.0, 22.0, 22.0, 22.0, 24.0, 22.0, 24.0, 24.0, 27.0, 26.0, 23.0, 22.0, 22.0, 22.0, 22.0, 44.0, 22.0, 22.0, 22.0, 22.0, 22.0, 22.0, 22.0, 22.0, 22.0, 22.0, 22.0, 22.0, 22.0, 22.0, 22.0, 22.0, 60.0], \"coloraxis\": \"coloraxis\", \"size\": [22.0, 22.0, 22.0, 22.0, 22.0, 22.0, 22.0, 22.0, 22.0, 22.0, 22.0, 22.0, 22.0, 22.0, 22.0, 22.0, 22.0, 22.0, 22.0, 22.0, 22.0, 22.0, 22.0, 22.0, 22.0, 22.0, 22.0, 22.0, 22.0, 22.0, 22.0, 22.0, 22.0, 22.0, 22.0, 44.0, 22.0, 22.0, 22.0, 22.0, 22.0, 22.0, 22.0, 22.0, 22.0, 22.0, 22.0, 22.0, 22.0, 22.0, 22.0, 22.0, 22.0, 22.0, 22.0, 22.0, 22.0, 22.0, 22.0, 22.0, 22.0, 22.0, 22.0, 22.0, 22.0, 22.0, 22.0, 22.0, 22.0, 22.0, 22.0, 22.0, 22.0, 22.0, 22.0, 22.0, 22.0, 22.0, 22.0, 22.0, 22.0, 22.0, 22.0, 22.0, 22.0, 22.0, 22.0, 22.0, 22.0, 22.0, 22.0, 22.0, 22.0, 22.0, 60.0, 22.0, 22.0, 22.0, 22.0, 22.0, 22.0, 22.0, 22.0, 22.0, 22.0, 22.0, 22.0, 22.0, 22.0, 22.0, 22.0, 22.0, 22.0, 22.0, 22.0, 22.0, 22.0, 44.0, 22.0, 22.0, 22.0, 22.0, 22.0, 22.0, 22.0, 22.0, 22.0, 22.0, 22.0, 22.0, 22.0, 22.0, 60.0, 22.0, 22.0, 22.0, 22.0, 22.0, 22.0, 22.0, 60.0, 22.0, 22.0, 22.0, 22.0, 22.0, 22.0, 22.0, 22.0, 22.0, 22.0, 22.0, 22.0, 22.0, 22.0, 22.0, 22.0, 22.0, 22.0, 22.0, 22.0, 22.0, 22.0, 44.0, 22.0, 22.0, 22.0, 22.0, 22.0, 22.0, 22.0, 22.0, 22.0, 22.0, 22.0, 22.0, 22.0, 22.0, 22.0, 22.0, 22.0, 22.0, 22.0, 22.0, 22.0, 22.0, 44.0, 22.0, 22.0, 22.0, 22.0, 22.0, 22.0, 22.0, 22.0, 22.0, 22.0, 22.0, 24.0, 22.0, 24.0, 24.0, 27.0, 26.0, 23.0, 22.0, 22.0, 22.0, 22.0, 44.0, 22.0, 22.0, 22.0, 22.0, 22.0, 22.0, 22.0, 22.0, 22.0, 22.0, 22.0, 22.0, 22.0, 22.0, 22.0, 22.0, 60.0], \"sizemode\": \"area\", \"sizeref\": 0.15, \"symbol\": \"circle\"}, \"mode\": \"markers\", \"name\": \"\", \"showlegend\": false, \"type\": \"scatter\", \"x\": [\"01\", \"02\", \"03\", \"04\", \"05\", \"06\", \"07\", \"08\", \"09\", \"10\", \"11\", \"12\", \"13\", \"14\", \"15\", \"16\", \"17\", \"18\", \"19\", \"20\", \"21\", \"22\", \"23\", \"24\", \"01\", \"02\", \"03\", \"04\", \"05\", \"06\", \"07\", \"08\", \"09\", \"10\", \"11\", \"1213\", \"14\", \"15\", \"16\", \"17\", \"18\", \"19\", \"20\", \"21\", \"22\", \"23\", \"24\", \"01\", \"02\", \"03\", \"04\", \"05\", \"06\", \"07\", \"08\", \"09\", \"10\", \"11\", \"12\", \"13\", \"14\", \"15\", \"16\", \"17\", \"18\", \"19\", \"20\", \"21\", \"22\", \"23\", \"24\", \"25\", \"01\", \"02\", \"03\", \"04\", \"05\", \"06\", \"07\", \"08\", \"09\", \"10\", \"11\", \"12\", \"13\", \"14\", \"15\", \"16\", \"17\", \"18\", \"19\", \"20\", \"21\", \"22\", \"2324\", \"01\", \"02\", \"03\", \"04\", \"05\", \"06\", \"07\", \"08\", \"09\", \"10\", \"11\", \"12\", \"13\", \"14\", \"15\", \"16\", \"17\", \"18\", \"19\", \"20\", \"21\", \"22\", \"2324\", \"01\", \"02\", \"03\", \"04\", \"05\", \"06\", \"07\", \"08\", \"09\", \"10\", \"11\", \"12\", \"13\", \"14\", \"1516\", \"17\", \"18\", \"19\", \"20\", \"21\", \"22\", \"23\", \"2425\", \"01\", \"02\", \"03\", \"04\", \"05\", \"06\", \"07\", \"08\", \"09\", \"10\", \"11\", \"12\", \"13\", \"14\", \"15\", \"16\", \"17\", \"18\", \"19\", \"20\", \"21\", \"22\", \"2324\", \"01\", \"02\", \"03\", \"04\", \"05\", \"06\", \"07\", \"08\", \"09\", \"10\", \"11\", \"12\", \"13\", \"14\", \"15\", \"16\", \"17\", \"18\", \"19\", \"20\", \"21\", \"22\", \"2324\", \"01\", \"02\", \"03\", \"04\", \"05\", \"06\", \"07\", \"08\", \"09\", \"10\", \"11\", \"12\", \"13\", \"14\", \"15\", \"16\", \"17\", \"18\", \"19\", \"20\", \"21\", \"22\", \"2324\", \"01\", \"02\", \"03\", \"04\", \"05\", \"06\", \"07\", \"08\", \"09\", \"10\", \"11\", \"12\", \"13\", \"14\", \"15\", \"16\", \"1718\"], \"xaxis\": \"x\", \"y\": [22.0, 22.0, 22.0, 22.0, 22.0, 22.0, 22.0, 22.0, 22.0, 22.0, 22.0, 22.0, 22.0, 22.0, 22.0, 22.0, 22.0, 22.0, 22.0, 22.0, 22.0, 22.0, 22.0, 22.0, 22.0, 22.0, 22.0, 22.0, 22.0, 22.0, 22.0, 22.0, 22.0, 22.0, 22.0, 44.0, 22.0, 22.0, 22.0, 22.0, 22.0, 22.0, 22.0, 22.0, 22.0, 22.0, 22.0, 22.0, 22.0, 22.0, 22.0, 22.0, 22.0, 22.0, 22.0, 22.0, 22.0, 22.0, 22.0, 22.0, 22.0, 22.0, 22.0, 22.0, 22.0, 22.0, 22.0, 22.0, 22.0, 22.0, 22.0, 22.0, 22.0, 22.0, 22.0, 22.0, 22.0, 22.0, 22.0, 22.0, 22.0, 22.0, 22.0, 22.0, 22.0, 22.0, 22.0, 22.0, 22.0, 22.0, 22.0, 22.0, 22.0, 22.0, 60.0, 22.0, 22.0, 22.0, 22.0, 22.0, 22.0, 22.0, 22.0, 22.0, 22.0, 22.0, 22.0, 22.0, 22.0, 22.0, 22.0, 22.0, 22.0, 22.0, 22.0, 22.0, 22.0, 44.0, 22.0, 22.0, 22.0, 22.0, 22.0, 22.0, 22.0, 22.0, 22.0, 22.0, 22.0, 22.0, 22.0, 22.0, 60.0, 22.0, 22.0, 22.0, 22.0, 22.0, 22.0, 22.0, 60.0, 22.0, 22.0, 22.0, 22.0, 22.0, 22.0, 22.0, 22.0, 22.0, 22.0, 22.0, 22.0, 22.0, 22.0, 22.0, 22.0, 22.0, 22.0, 22.0, 22.0, 22.0, 22.0, 44.0, 22.0, 22.0, 22.0, 22.0, 22.0, 22.0, 22.0, 22.0, 22.0, 22.0, 22.0, 22.0, 22.0, 22.0, 22.0, 22.0, 22.0, 22.0, 22.0, 22.0, 22.0, 22.0, 44.0, 22.0, 22.0, 22.0, 22.0, 22.0, 22.0, 22.0, 22.0, 22.0, 22.0, 22.0, 24.0, 22.0, 24.0, 24.0, 27.0, 26.0, 23.0, 22.0, 22.0, 22.0, 22.0, 44.0, 22.0, 22.0, 22.0, 22.0, 22.0, 22.0, 22.0, 22.0, 22.0, 22.0, 22.0, 22.0, 22.0, 22.0, 22.0, 22.0, 60.0], \"yaxis\": \"y\"}],\n",
              "                        {\"coloraxis\": {\"colorbar\": {\"title\": {\"text\": \"Duration\"}}, \"colorscale\": [[0.0, \"rgb(103,0,31)\"], [0.1, \"rgb(178,24,43)\"], [0.2, \"rgb(214,96,77)\"], [0.3, \"rgb(244,165,130)\"], [0.4, \"rgb(253,219,199)\"], [0.5, \"rgb(247,247,247)\"], [0.6, \"rgb(209,229,240)\"], [0.7, \"rgb(146,197,222)\"], [0.8, \"rgb(67,147,195)\"], [0.9, \"rgb(33,102,172)\"], [1.0, \"rgb(5,48,97)\"]]}, \"legend\": {\"itemsizing\": \"constant\", \"tracegroupgap\": 0}, \"margin\": {\"t\": 60}, \"template\": {\"data\": {\"bar\": [{\"error_x\": {\"color\": \"rgb(51,51,51)\"}, \"error_y\": {\"color\": \"rgb(51,51,51)\"}, \"marker\": {\"line\": {\"color\": \"rgb(237,237,237)\", \"width\": 0.5}}, \"type\": \"bar\"}], \"barpolar\": [{\"marker\": {\"line\": {\"color\": \"rgb(237,237,237)\", \"width\": 0.5}}, \"type\": \"barpolar\"}], \"carpet\": [{\"aaxis\": {\"endlinecolor\": \"rgb(51,51,51)\", \"gridcolor\": \"white\", \"linecolor\": \"white\", \"minorgridcolor\": \"white\", \"startlinecolor\": \"rgb(51,51,51)\"}, \"baxis\": {\"endlinecolor\": \"rgb(51,51,51)\", \"gridcolor\": \"white\", \"linecolor\": \"white\", \"minorgridcolor\": \"white\", \"startlinecolor\": \"rgb(51,51,51)\"}, \"type\": \"carpet\"}], \"choropleth\": [{\"colorbar\": {\"outlinewidth\": 0, \"tickcolor\": \"rgb(237,237,237)\", \"ticklen\": 6, \"ticks\": \"inside\"}, \"type\": \"choropleth\"}], \"contour\": [{\"colorbar\": {\"outlinewidth\": 0, \"tickcolor\": \"rgb(237,237,237)\", \"ticklen\": 6, \"ticks\": \"inside\"}, \"colorscale\": [[0, \"rgb(20,44,66)\"], [1, \"rgb(90,179,244)\"]], \"type\": \"contour\"}], \"contourcarpet\": [{\"colorbar\": {\"outlinewidth\": 0, \"tickcolor\": \"rgb(237,237,237)\", \"ticklen\": 6, \"ticks\": \"inside\"}, \"type\": \"contourcarpet\"}], \"heatmap\": [{\"colorbar\": {\"outlinewidth\": 0, \"tickcolor\": \"rgb(237,237,237)\", \"ticklen\": 6, \"ticks\": \"inside\"}, \"colorscale\": [[0, \"rgb(20,44,66)\"], [1, \"rgb(90,179,244)\"]], \"type\": \"heatmap\"}], \"heatmapgl\": [{\"colorbar\": {\"outlinewidth\": 0, \"tickcolor\": \"rgb(237,237,237)\", \"ticklen\": 6, \"ticks\": \"inside\"}, \"colorscale\": [[0, \"rgb(20,44,66)\"], [1, \"rgb(90,179,244)\"]], \"type\": \"heatmapgl\"}], \"histogram\": [{\"marker\": {\"colorbar\": {\"outlinewidth\": 0, \"tickcolor\": \"rgb(237,237,237)\", \"ticklen\": 6, \"ticks\": \"inside\"}}, \"type\": \"histogram\"}], \"histogram2d\": [{\"colorbar\": {\"outlinewidth\": 0, \"tickcolor\": \"rgb(237,237,237)\", \"ticklen\": 6, \"ticks\": \"inside\"}, \"colorscale\": [[0, \"rgb(20,44,66)\"], [1, \"rgb(90,179,244)\"]], \"type\": \"histogram2d\"}], \"histogram2dcontour\": [{\"colorbar\": {\"outlinewidth\": 0, \"tickcolor\": \"rgb(237,237,237)\", \"ticklen\": 6, \"ticks\": \"inside\"}, \"colorscale\": [[0, \"rgb(20,44,66)\"], [1, \"rgb(90,179,244)\"]], \"type\": \"histogram2dcontour\"}], \"mesh3d\": [{\"colorbar\": {\"outlinewidth\": 0, \"tickcolor\": \"rgb(237,237,237)\", \"ticklen\": 6, \"ticks\": \"inside\"}, \"type\": \"mesh3d\"}], \"parcoords\": [{\"line\": {\"colorbar\": {\"outlinewidth\": 0, \"tickcolor\": \"rgb(237,237,237)\", \"ticklen\": 6, \"ticks\": \"inside\"}}, \"type\": \"parcoords\"}], \"pie\": [{\"automargin\": true, \"type\": \"pie\"}], \"scatter\": [{\"marker\": {\"colorbar\": {\"outlinewidth\": 0, \"tickcolor\": \"rgb(237,237,237)\", \"ticklen\": 6, \"ticks\": \"inside\"}}, \"type\": \"scatter\"}], \"scatter3d\": [{\"line\": {\"colorbar\": {\"outlinewidth\": 0, \"tickcolor\": \"rgb(237,237,237)\", \"ticklen\": 6, \"ticks\": \"inside\"}}, \"marker\": {\"colorbar\": {\"outlinewidth\": 0, \"tickcolor\": \"rgb(237,237,237)\", \"ticklen\": 6, \"ticks\": \"inside\"}}, \"type\": \"scatter3d\"}], \"scattercarpet\": [{\"marker\": {\"colorbar\": {\"outlinewidth\": 0, \"tickcolor\": \"rgb(237,237,237)\", \"ticklen\": 6, \"ticks\": \"inside\"}}, \"type\": \"scattercarpet\"}], \"scattergeo\": [{\"marker\": {\"colorbar\": {\"outlinewidth\": 0, \"tickcolor\": \"rgb(237,237,237)\", \"ticklen\": 6, \"ticks\": \"inside\"}}, \"type\": \"scattergeo\"}], \"scattergl\": [{\"marker\": {\"colorbar\": {\"outlinewidth\": 0, \"tickcolor\": \"rgb(237,237,237)\", \"ticklen\": 6, \"ticks\": \"inside\"}}, \"type\": \"scattergl\"}], \"scattermapbox\": [{\"marker\": {\"colorbar\": {\"outlinewidth\": 0, \"tickcolor\": \"rgb(237,237,237)\", \"ticklen\": 6, \"ticks\": \"inside\"}}, \"type\": \"scattermapbox\"}], \"scatterpolar\": [{\"marker\": {\"colorbar\": {\"outlinewidth\": 0, \"tickcolor\": \"rgb(237,237,237)\", \"ticklen\": 6, \"ticks\": \"inside\"}}, \"type\": \"scatterpolar\"}], \"scatterpolargl\": [{\"marker\": {\"colorbar\": {\"outlinewidth\": 0, \"tickcolor\": \"rgb(237,237,237)\", \"ticklen\": 6, \"ticks\": \"inside\"}}, \"type\": \"scatterpolargl\"}], \"scatterternary\": [{\"marker\": {\"colorbar\": {\"outlinewidth\": 0, \"tickcolor\": \"rgb(237,237,237)\", \"ticklen\": 6, \"ticks\": \"inside\"}}, \"type\": \"scatterternary\"}], \"surface\": [{\"colorbar\": {\"outlinewidth\": 0, \"tickcolor\": \"rgb(237,237,237)\", \"ticklen\": 6, \"ticks\": \"inside\"}, \"colorscale\": [[0, \"rgb(20,44,66)\"], [1, \"rgb(90,179,244)\"]], \"type\": \"surface\"}], \"table\": [{\"cells\": {\"fill\": {\"color\": \"rgb(237,237,237)\"}, \"line\": {\"color\": \"white\"}}, \"header\": {\"fill\": {\"color\": \"rgb(217,217,217)\"}, \"line\": {\"color\": \"white\"}}, \"type\": \"table\"}]}, \"layout\": {\"annotationdefaults\": {\"arrowhead\": 0, \"arrowwidth\": 1}, \"coloraxis\": {\"colorbar\": {\"outlinewidth\": 0, \"tickcolor\": \"rgb(237,237,237)\", \"ticklen\": 6, \"ticks\": \"inside\"}}, \"colorscale\": {\"sequential\": [[0, \"rgb(20,44,66)\"], [1, \"rgb(90,179,244)\"]], \"sequentialminus\": [[0, \"rgb(20,44,66)\"], [1, \"rgb(90,179,244)\"]]}, \"colorway\": [\"#F8766D\", \"#A3A500\", \"#00BF7D\", \"#00B0F6\", \"#E76BF3\"], \"font\": {\"color\": \"rgb(51,51,51)\"}, \"geo\": {\"bgcolor\": \"white\", \"lakecolor\": \"white\", \"landcolor\": \"rgb(237,237,237)\", \"showlakes\": true, \"showland\": true, \"subunitcolor\": \"white\"}, \"hoverlabel\": {\"align\": \"left\"}, \"hovermode\": \"closest\", \"paper_bgcolor\": \"white\", \"plot_bgcolor\": \"rgb(237,237,237)\", \"polar\": {\"angularaxis\": {\"gridcolor\": \"white\", \"linecolor\": \"white\", \"showgrid\": true, \"tickcolor\": \"rgb(51,51,51)\", \"ticks\": \"outside\"}, \"bgcolor\": \"rgb(237,237,237)\", \"radialaxis\": {\"gridcolor\": \"white\", \"linecolor\": \"white\", \"showgrid\": true, \"tickcolor\": \"rgb(51,51,51)\", \"ticks\": \"outside\"}}, \"scene\": {\"xaxis\": {\"backgroundcolor\": \"rgb(237,237,237)\", \"gridcolor\": \"white\", \"gridwidth\": 2, \"linecolor\": \"white\", \"showbackground\": true, \"showgrid\": true, \"tickcolor\": \"rgb(51,51,51)\", \"ticks\": \"outside\", \"zerolinecolor\": \"white\"}, \"yaxis\": {\"backgroundcolor\": \"rgb(237,237,237)\", \"gridcolor\": \"white\", \"gridwidth\": 2, \"linecolor\": \"white\", \"showbackground\": true, \"showgrid\": true, \"tickcolor\": \"rgb(51,51,51)\", \"ticks\": \"outside\", \"zerolinecolor\": \"white\"}, \"zaxis\": {\"backgroundcolor\": \"rgb(237,237,237)\", \"gridcolor\": \"white\", \"gridwidth\": 2, \"linecolor\": \"white\", \"showbackground\": true, \"showgrid\": true, \"tickcolor\": \"rgb(51,51,51)\", \"ticks\": \"outside\", \"zerolinecolor\": \"white\"}}, \"shapedefaults\": {\"fillcolor\": \"black\", \"line\": {\"width\": 0}, \"opacity\": 0.3}, \"ternary\": {\"aaxis\": {\"gridcolor\": \"white\", \"linecolor\": \"white\", \"showgrid\": true, \"tickcolor\": \"rgb(51,51,51)\", \"ticks\": \"outside\"}, \"baxis\": {\"gridcolor\": \"white\", \"linecolor\": \"white\", \"showgrid\": true, \"tickcolor\": \"rgb(51,51,51)\", \"ticks\": \"outside\"}, \"bgcolor\": \"rgb(237,237,237)\", \"caxis\": {\"gridcolor\": \"white\", \"linecolor\": \"white\", \"showgrid\": true, \"tickcolor\": \"rgb(51,51,51)\", \"ticks\": \"outside\"}}, \"xaxis\": {\"automargin\": true, \"gridcolor\": \"white\", \"linecolor\": \"white\", \"showgrid\": true, \"tickcolor\": \"rgb(51,51,51)\", \"ticks\": \"outside\", \"title\": {\"standoff\": 15}, \"zerolinecolor\": \"white\"}, \"yaxis\": {\"automargin\": true, \"gridcolor\": \"white\", \"linecolor\": \"white\", \"showgrid\": true, \"tickcolor\": \"rgb(51,51,51)\", \"ticks\": \"outside\", \"title\": {\"standoff\": 15}, \"zerolinecolor\": \"white\"}}}, \"xaxis\": {\"anchor\": \"y\", \"domain\": [0.0, 1.0], \"title\": {\"text\": \"Episode\"}}, \"yaxis\": {\"anchor\": \"x\", \"domain\": [0.0, 1.0], \"title\": {\"text\": \"Duration\"}}},\n",
              "                        {\"responsive\": true}\n",
              "                    ).then(function(){\n",
              "                            \n",
              "var gd = document.getElementById('eb2ab0b7-f698-4f0f-a0db-210f9269a5f6');\n",
              "var x = new MutationObserver(function (mutations, observer) {{\n",
              "        var display = window.getComputedStyle(gd).display;\n",
              "        if (!display || display === 'none') {{\n",
              "            console.log([gd, 'removed!']);\n",
              "            Plotly.purge(gd);\n",
              "            observer.disconnect();\n",
              "        }}\n",
              "}});\n",
              "\n",
              "// Listen for the removal of the full notebook cells\n",
              "var notebookContainer = gd.closest('#notebook-container');\n",
              "if (notebookContainer) {{\n",
              "    x.observe(notebookContainer, {childList: true});\n",
              "}}\n",
              "\n",
              "// Listen for the clearing of the current output cell\n",
              "var outputEl = gd.closest('.output');\n",
              "if (outputEl) {{\n",
              "    x.observe(outputEl, {childList: true});\n",
              "}}\n",
              "\n",
              "                        })\n",
              "                };\n",
              "                \n",
              "            </script>\n",
              "        </div>\n",
              "</body>\n",
              "</html>"
            ]
          },
          "metadata": {
            "tags": []
          }
        }
      ]
    }
  ]
}